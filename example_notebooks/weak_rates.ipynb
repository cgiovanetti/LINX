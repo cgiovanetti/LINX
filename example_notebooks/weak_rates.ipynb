{
 "cells": [
  {
   "cell_type": "markdown",
   "id": "7b4aba63-379f-410d-9045-3471fc338d54",
   "metadata": {},
   "source": [
    "# Impact of weak rate options"
   ]
  },
  {
   "cell_type": "markdown",
   "id": "c5c1901e-fc4a-44a6-8ed5-93a8849451a7",
   "metadata": {},
   "source": [
    "LINX includes a number of different switches and options for computing the rate of proton-neutron interconversion, which can have an impact on the prediction for the abundance of helium-4.  We explore these settings in this notebook."
   ]
  },
  {
   "cell_type": "markdown",
   "id": "0ab78e32-a96d-417b-a824-6e49810e188a",
   "metadata": {},
   "source": [
    "## Preamble"
   ]
  },
  {
   "cell_type": "code",
   "execution_count": null,
   "id": "6db806d1-96b5-4e1a-aaa9-4da31a426681",
   "metadata": {},
   "outputs": [],
   "source": [
    "%load_ext autoreload\n",
    "%autoreload\n",
    "import numpy as np\n",
    "import jax.numpy as jnp\n",
    "import jax\n",
    "from jax import jit, vmap\n",
    "import sys\n",
    "\n",
    "sys.path.append(\"..\")\n",
    "import linx.const as const \n",
    "from linx.weak_rates import WeakRates\n",
    "from linx.nuclear import NuclearRates\n",
    "from linx.background import BackgroundModel\n",
    "from linx.abundances import AbundanceModel"
   ]
  },
  {
   "cell_type": "markdown",
   "id": "86385940-88bb-43dd-a8fb-8b4e6c64a9f8",
   "metadata": {},
   "source": [
    "See background_evolution for more about how LINX computes background thermodynamics."
   ]
  },
  {
   "cell_type": "code",
   "execution_count": null,
   "id": "3667e0e8-1bfc-4b95-8175-e6e05351b16b",
   "metadata": {},
   "outputs": [],
   "source": [
    "thermo_model_DNeff = BackgroundModel()\n",
    "\n",
    "(\n",
    "    t_vec_ref, a_vec_ref, rho_g_vec, rho_nu_vec, rho_NP_vec, P_NP_vec, Neff_vec \n",
    ") = thermo_model_DNeff(jnp.asarray(0.))\n"
   ]
  },
  {
   "cell_type": "markdown",
   "id": "ae5cdc75-cac5-4a56-b3e4-89e7ba0b469f",
   "metadata": {},
   "source": [
    "We'll use the \"key\" PRIMAT network here, though the prediction for helium-4 does not depend sensitively on the choice of network."
   ]
  },
  {
   "cell_type": "code",
   "execution_count": null,
   "id": "8f5d2fd6-d18b-45ed-a70b-925826dca2aa",
   "metadata": {},
   "outputs": [],
   "source": [
    "network = 'key_PRIMAT_2023'\n",
    "abundance_model = AbundanceModel(NuclearRates(nuclear_net=network),\n",
    "               weak_rates=WeakRates(RC_corr=True,thermal_corr=True,FM_corr=True, weak_mag_corr=True))"
   ]
  },
  {
   "cell_type": "markdown",
   "id": "dead9b21-52fa-433b-8435-cb59cec44400",
   "metadata": {},
   "source": [
    "## Weak rates"
   ]
  },
  {
   "cell_type": "markdown",
   "id": "c6895d9a-718e-4786-b0d9-b0af30ff6018",
   "metadata": {},
   "source": [
    "By default, LINX includes the following corrections, all of which can be toggled.  These corrections are derived in https://arxiv.org/abs/1801.08023, which we'll call Pitrou_2018 here. \n",
    "\n",
    "- Virtual photon radiative corrections, labeled as \"RC0\" in Pitrou_2018. These correspond to including one-loop diagrams with a photon loop, and no emission of real photons; \n",
    "- Finite temperature radiative corrections and Bremsstrahlung corrections, labeled as \"ThRC+BS\" in Pitrou_2018 (we do not use separate thermal and Bremsstrahlung corrections).  These corrections are included only as a table of values obtained using PRyMordial, assuming SBBN. A proper calculation of these corrections for arbitrary background evolution histories requires quadrature in two dimensions, which cannot be straightforwardly performed in JAX. However, these corrections are known to be small within SBBN, and can be safely neglected for now;\n",
    "- Finite nucleon mass corrections, labeled as \"FM\" in Pitrou_2018. If used in combination with virtual photon radiative corrections, we do not use separate \"RC0\" and \"FM\" corrections; we use instead corrections labeled \"RC+FM\" in Pitrou_2018, and\n",
    "- The weak magnetism correction, denoted \"WM\" in Pitrou_2018.\n",
    "\n",
    "Let's explore what happens when we pass in different combinations of options to the `WeakRates` module in LINX:"
   ]
  },
  {
   "cell_type": "code",
   "execution_count": null,
   "id": "3569cf55-3d1c-4687-87cd-4f1cc4ed187b",
   "metadata": {},
   "outputs": [],
   "source": [
    "res_arr = []\n",
    "bool_arrs = [[False, False, False, False],# Born\n",
    "             [False, False, True, False], # Born + FM\n",
    "             [False, False, True, True], # Born + FM + WM\n",
    "             [True, False, False, False],# RC0\n",
    "             [True, False, True, True],# RC + FM + WM\n",
    "             [True, True, True, True]# RC + ThRC+BS + FM + WM\n",
    "            ]\n",
    "             \n",
    "for bool_arr in bool_arrs:\n",
    "    abundance_model = AbundanceModel(NuclearRates(nuclear_net=network),\n",
    "                   weak_rates=WeakRates(RC_corr=bool_arr[0],thermal_corr=bool_arr[1],FM_corr=bool_arr[2], weak_mag_corr=bool_arr[3]))\n",
    "    \n",
    "    Yn, Yp, Yd, Yt, YHe3, Ya, YLi7, YBe7 = abundance_model(\n",
    "        rho_g_vec,\n",
    "        rho_nu_vec,\n",
    "        jnp.zeros_like(rho_g_vec),\n",
    "        jnp.zeros_like(rho_g_vec),\n",
    "        t_vec = t_vec_ref,\n",
    "        a_vec = a_vec_ref\n",
    "    )\n",
    "    res_arr = np.append(res_arr,4*Ya)"
   ]
  },
  {
   "cell_type": "markdown",
   "id": "942d38d6-6efb-4c39-b13e-488c52e6b023",
   "metadata": {},
   "source": [
    "Like in `background_evolution`, the abundance model needed to compile each time for each different set of options.\n",
    "\n",
    "We can make a table of our results for our predictions for $Y_{\\rm{P}}$:"
   ]
  },
  {
   "cell_type": "code",
   "execution_count": null,
   "id": "7fb6fae0-7972-4853-8f01-1e123a2b2e2a",
   "metadata": {},
   "outputs": [],
   "source": [
    "settings = [\"Born\", \"Born + FM\", \"Born + FM + WM\", \"RC0\", \"RC + FM + WM\", \"RC + ThRC+BS + FM + WM\"]\n",
    "titles = ['Configuration','Yp']\n",
    "\n",
    "table = []\n",
    "for i in range(len(settings)):\n",
    "    row = [settings[i],res_arr[i]]\n",
    "    table.append(row)\n",
    "\n",
    "col_width = 25\n",
    "decimal_places = 5\n",
    "\n",
    "print(f\"{titles[0].ljust(col_width)} {titles[1].ljust(col_width)}\")\n",
    "print(\"-\" * (col_width * 2))\n",
    "for row in table:\n",
    "    formatted_row = f\"{str(row[0])[:col_width-1]:<{col_width}}\" \n",
    "    for item in row[1:]:\n",
    "        formatted_row += f\"{item:<{col_width}.{decimal_places}f}\"\n",
    "    print(formatted_row)"
   ]
  },
  {
   "cell_type": "code",
   "execution_count": null,
   "id": "20648de3-fc2a-45a7-b1e2-c201c32dae23",
   "metadata": {},
   "outputs": [],
   "source": [
    "settings = [\"Born\", \"Born + FM\", \"Born + FM + WM\", \"RC0\", \"RC + FM + WM\", \"RC + FM + WM + ThRC+BS\"]\n",
    "titles = ['Configuration','% Yp']\n",
    "\n",
    "def percentage(varied,fiducial):\n",
    "    return 100*(varied - fiducial)/fiducial\n",
    "\n",
    "table = []\n",
    "for i in range(len(settings)):\n",
    "    row = [settings[i],percentage(res_arr[i],res_arr[0])]\n",
    "    table.append(row)\n",
    "\n",
    "col_width = 25\n",
    "decimal_places = 5\n",
    "\n",
    "print(f\"{titles[0].ljust(col_width)} {titles[1].ljust(col_width)}\")\n",
    "print(\"-\" * (col_width * 2))\n",
    "for row in table:\n",
    "    formatted_row = f\"{str(row[0])[:col_width-1]:<{col_width}}\" \n",
    "    for item in row[1:]:\n",
    "        formatted_row += f\"{item:<{col_width}.{decimal_places}f}\"\n",
    "    print(formatted_row)"
   ]
  },
  {
   "cell_type": "markdown",
   "id": "3d9c2c36-87a5-4bf7-8c12-8b2870b28b27",
   "metadata": {},
   "source": [
    "This last setting is the most accurate and is used by default in LINX."
   ]
  },
  {
   "cell_type": "code",
   "execution_count": null,
   "id": "e0873b54-f4f3-4ef1-adee-a859cd32a8f0",
   "metadata": {},
   "outputs": [],
   "source": []
  }
 ],
 "metadata": {
  "kernelspec": {
   "display_name": "Python 3 (ipykernel)",
   "language": "python",
   "name": "python3"
  },
  "language_info": {
   "codemirror_mode": {
    "name": "ipython",
    "version": 3
   },
   "file_extension": ".py",
   "mimetype": "text/x-python",
   "name": "python",
   "nbconvert_exporter": "python",
   "pygments_lexer": "ipython3",
   "version": "3.12.3"
  }
 },
 "nbformat": 4,
 "nbformat_minor": 5
}
