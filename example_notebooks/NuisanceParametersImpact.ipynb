{
 "cells": [
  {
   "cell_type": "markdown",
   "id": "8e43be76-043a-436e-bdf8-c6df073ca805",
   "metadata": {},
   "source": [
    "# Variation of Abundances with Nuisance Parameters"
   ]
  },
  {
   "cell_type": "markdown",
   "id": "0b03d714-4384-4337-9ad9-936057ee3471",
   "metadata": {},
   "source": [
    "A major advantage of LINX is the ability to easily calculate primordial abundances that account for the uncertainties on the reaction rates in the BBN network.  Here, we will explore the impact of those uncertainties on the predicted nuclear rates."
   ]
  },
  {
   "cell_type": "markdown",
   "id": "409aedfb-406d-4e12-81a5-89d4d0e14c2d",
   "metadata": {},
   "source": [
    "## Preamble"
   ]
  },
  {
   "cell_type": "code",
   "execution_count": null,
   "id": "be1d52ae-e67b-4633-93a6-652836a5d07b",
   "metadata": {},
   "outputs": [],
   "source": [
    "%load_ext autoreload\n",
    "%autoreload\n",
    "import numpy as np\n",
    "import jax.numpy as jnp\n",
    "import jax\n",
    "from jax import jit, vmap\n",
    "import sys\n",
    "\n",
    "sys.path.append(\"../\")\n",
    "import linx.const as const \n",
    "from linx.nuclear import NuclearRates\n",
    "from linx.background import BackgroundModel\n",
    "from linx.abundances import AbundanceModel"
   ]
  },
  {
   "cell_type": "markdown",
   "id": "49d8f5dc-731a-435c-b080-f744a50f2feb",
   "metadata": {},
   "source": [
    "First, we set up our thermodynamics model (see \"background_evolution\" notebook for more information about the LINX computation of background thermodynamics) and the abundance model.  We'll set up with the `key_PRIMAT_2023` network, though it's simple to switch to a different network if desired."
   ]
  },
  {
   "cell_type": "code",
   "execution_count": null,
   "id": "690ac31a-3701-4d32-b478-7bf37ae8f514",
   "metadata": {},
   "outputs": [],
   "source": [
    "thermo_model_DNeff = BackgroundModel()\n",
    "\n",
    "(\n",
    "    t_vec_ref, a_vec_ref, rho_g_vec, rho_nu_vec, rho_NP_vec, P_NP_vec, Neff_vec \n",
    ") = thermo_model_DNeff(0.)"
   ]
  },
  {
   "cell_type": "code",
   "execution_count": null,
   "id": "e509db4a-0746-49ea-9599-eca481183537",
   "metadata": {},
   "outputs": [],
   "source": [
    "# comment or uncomment to toggle which reaction network to use\n",
    "\n",
    "network = 'key_PRIMAT_2023'\n",
    "# network = 'key_PRIMAT_2018'\n",
    "# network = 'key_PArthENoPE'\n",
    "# network = 'key_YOF'\n",
    "abundance_model = AbundanceModel(NuclearRates(nuclear_net=network))"
   ]
  },
  {
   "cell_type": "markdown",
   "id": "dde7034f-dc09-4d51-8918-c1440b9adec6",
   "metadata": {},
   "source": [
    "## Abundances with nuisances"
   ]
  },
  {
   "cell_type": "markdown",
   "id": "3295a361-7b29-4090-9226-c4418ccc5781",
   "metadata": {},
   "source": [
    "The rate for each nuclear reaction $i$ is $r_i(T) \\equiv u^{-1} \\langle \\sigma v \\rangle (T)$, where $u$ is the atomic mass unit, $\\langle \\sigma v \\rangle$.  Rate uncertainties in LINX are captured by taking $r_i$ to be log-normally distributed, with a mean value $ \\overline{r}_i(T)$ and standard deviation $\\sigma_i(T)$.  Specifically, $\\log r_i (T) = \\log \\overline{r}_i (T) + q_i \\sigma_i (T)$, where $q_i$ is a unit Gaussian random variable.\n",
    "\n",
    "Let's define a new wrapper function that takes an argument for `nuclear_rates_q`, where `nuclear_rates_q` is an array of $q_i$.  Passing in nonzero values for the entries of `nuclear_rates_q` will allow us to vary the nuclear rates."
   ]
  },
  {
   "cell_type": "code",
   "execution_count": null,
   "id": "8bd7a190-ec14-4feb-add0-5e5e7140b14c",
   "metadata": {},
   "outputs": [],
   "source": [
    "def get_abundance_eta_tau_q(eta_fac, tau_n_fac, nuclear_rates_q):\n",
    "    Yn, Yp, Yd, Yt, YHe3, Ya, YLi7, YBe7 = abundance_model(\n",
    "        jnp.array(rho_g_vec),\n",
    "        jnp.array(rho_nu_vec),\n",
    "        jnp.zeros_like(rho_g_vec),\n",
    "        jnp.zeros_like(rho_g_vec),\n",
    "        t_vec=jnp.array(t_vec_ref),\n",
    "        a_vec=jnp.array(a_vec_ref),\n",
    "        eta_fac=jnp.asarray(eta_fac),\n",
    "        tau_n_fac=jnp.asarray(tau_n_fac),\n",
    "        nuclear_rates_q=nuclear_rates_q\n",
    "    )\n",
    "    return jnp.array([Yn, Yp, Yd, Yt, YHe3, Ya, YLi7, YBe7])\n",
    "\n",
    "get_abundance_v = vmap(get_abundance_eta_tau_q, in_axes=(None, None, 0))"
   ]
  },
  {
   "cell_type": "markdown",
   "id": "d706d0bf-abf5-4ead-803d-875dfbee0911",
   "metadata": {},
   "source": [
    "The last line vectorizes our wrapper function over `nuclear_rates_q`, so that we can pass in many arrays of `q` at once.\n",
    "\n",
    "Let's compute our fiducial values of the primordial abundances, with everything set to its median values:"
   ]
  },
  {
   "cell_type": "code",
   "execution_count": null,
   "id": "47242ae6-be89-4066-af1f-8648f6e68b32",
   "metadata": {},
   "outputs": [],
   "source": [
    "num_reactions = len(abundance_model.nuclear_net.reactions)\n",
    "fiducial = get_abundance_eta_tau_q(1., 1., jnp.zeros(num_reactions))"
   ]
  },
  {
   "cell_type": "markdown",
   "id": "601880d8-b115-4068-94df-681195f8148d",
   "metadata": {},
   "source": [
    "Next we compute abundances when we vary either $\\eta$ or $\\tau_n$ by one sigma:"
   ]
  },
  {
   "cell_type": "code",
   "execution_count": null,
   "id": "9a7c8430-7f9e-4c4a-85ab-7740d9f75c7a",
   "metadata": {},
   "outputs": [],
   "source": [
    "eta_vary = get_abundance_eta_tau_q(1.006708,1.,jnp.zeros(num_reactions)) # vary within one sigma according to Planck 2018\n",
    "tau_vary = get_abundance_eta_tau_q(1.,1.000682,jnp.zeros(num_reactions)) # vary within one sigma according to PDG"
   ]
  },
  {
   "cell_type": "markdown",
   "id": "a2132fd9-a4ea-4494-b6ba-3f88a7ca76b1",
   "metadata": {},
   "source": [
    "Finally, we vary each of the reactions by one sigma, one at a time, and compute the resulting abundances:"
   ]
  },
  {
   "cell_type": "code",
   "execution_count": null,
   "id": "6a9bf3a1-1c81-474b-b273-373259c041bc",
   "metadata": {},
   "outputs": [],
   "source": [
    "reac_arrays = jnp.diag(jnp.ones(num_reactions))\n",
    "reac_vary = get_abundance_v(1.,1.,reac_arrays)"
   ]
  },
  {
   "cell_type": "markdown",
   "id": "cbe1f0ac-184d-4cf0-9ee5-85198c6da3ca",
   "metadata": {},
   "source": [
    "We can stack up the data and print it out in a table:"
   ]
  },
  {
   "cell_type": "code",
   "execution_count": null,
   "id": "01883a20-0bba-424c-8b6c-c764df910393",
   "metadata": {},
   "outputs": [],
   "source": [
    "all_vary = np.vstack((eta_vary,tau_vary,reac_vary))"
   ]
  },
  {
   "cell_type": "code",
   "execution_count": null,
   "id": "0eb6d5ed-9f30-4182-897d-0f8405c91516",
   "metadata": {},
   "outputs": [],
   "source": [
    "reac_names = [abundance_model.nuclear_net.reactions[i].name for i in range(num_reactions)]\n",
    "varied_params = np.concatenate(([\"eta\",\"tau_n\"],reac_names))\n",
    "abundances = ['D/H','Yp','He3/H','Li7/H']"
   ]
  },
  {
   "cell_type": "code",
   "execution_count": null,
   "id": "4348a17c-f668-4288-a86b-f9ea43f46400",
   "metadata": {},
   "outputs": [],
   "source": [
    "abundances = ['D/H x 1e5','Yp','He3/H x 1e5','Li7/H x 1e11']\n",
    "\n",
    "table = []\n",
    "for i in range(len(varied_params)):\n",
    "    row = [varied_params[i],all_vary[i][2]/all_vary[i][1]*1e5, 4*all_vary[i][5],all_vary[i][4]/all_vary[i][1]*1e5,all_vary[i][6]/all_vary[i][1]*1e11]\n",
    "    table.append(row)\n",
    "\n",
    "col_width = 15\n",
    "decimal_places = 5\n",
    "\n",
    "print(f\"{\"\".ljust(col_width)} {abundances[0].ljust(col_width)} {abundances[1].ljust(col_width-5)} {abundances[2].ljust(col_width)} {abundances[3].ljust(col_width)}\")\n",
    "print(\"-\" * (col_width * 5))\n",
    "for row in table:\n",
    "    formatted_row = f\"{str(row[0])[:col_width-1]:<{col_width}}\" \n",
    "    for item in row[1:]:\n",
    "        formatted_row += f\"{item:<{col_width}.{decimal_places}f}\"\n",
    "    print(formatted_row)"
   ]
  },
  {
   "cell_type": "code",
   "execution_count": null,
   "id": "bf154540-d49f-4912-b30f-978a6e117c46",
   "metadata": {},
   "outputs": [],
   "source": [
    "abundances = ['% D/H','% Yp','% He3/H','% Li7/H']\n",
    "\n",
    "def percentage(varied,fiducial):\n",
    "    return 100*np.abs((varied - fiducial)/((varied + fiducial)/2))\n",
    "\n",
    "table = []\n",
    "for i in range(len(varied_params)):\n",
    "    row = [varied_params[i],\n",
    "           percentage(all_vary[i][2]/all_vary[i][1],(fiducial[2]/fiducial[1])), \n",
    "           percentage(all_vary[i][5],fiducial[5]),\n",
    "           percentage(all_vary[i][4]/all_vary[i][1],fiducial[4]/fiducial[1]),\n",
    "           percentage(all_vary[i][6]/all_vary[i][1],fiducial[6]/fiducial[1])]\n",
    "    table.append(row)\n",
    "\n",
    "col_width = 15\n",
    "decimal_places = 5\n",
    "\n",
    "print(f\"{\"\".ljust(col_width)} {abundances[0].ljust(col_width)} {abundances[1].ljust(col_width-4)} {abundances[2].ljust(col_width)} {abundances[3].ljust(col_width)}\")\n",
    "print(\"-\" * (col_width * 5))\n",
    "for row in table:\n",
    "    formatted_row = f\"{str(row[0])[:col_width-1]:<{col_width}}\" \n",
    "    for item in row[1:]:\n",
    "        formatted_row += f\"{item:<{col_width}.{decimal_places}f}\" \n",
    "    print(formatted_row)"
   ]
  },
  {
   "cell_type": "code",
   "execution_count": null,
   "id": "73e42382-9105-4873-82de-052a3fb96c61",
   "metadata": {},
   "outputs": [],
   "source": []
  }
 ],
 "metadata": {
  "kernelspec": {
   "display_name": "Python 3 (ipykernel)",
   "language": "python",
   "name": "python3"
  },
  "language_info": {
   "codemirror_mode": {
    "name": "ipython",
    "version": 3
   },
   "file_extension": ".py",
   "mimetype": "text/x-python",
   "name": "python",
   "nbconvert_exporter": "python",
   "pygments_lexer": "ipython3",
   "version": "3.12.3"
  }
 },
 "nbformat": 4,
 "nbformat_minor": 5
}
