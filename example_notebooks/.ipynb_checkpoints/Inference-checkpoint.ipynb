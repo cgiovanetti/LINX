{
 "cells": [
  {
   "cell_type": "code",
   "execution_count": 18,
   "id": "8ba8b031-46d6-4363-95b6-fe0a70eedae4",
   "metadata": {},
   "outputs": [
    {
     "name": "stdout",
     "output_type": "stream",
     "text": [
      "The autoreload extension is already loaded. To reload it, use:\n",
      "  %reload_ext autoreload\n"
     ]
    },
    {
     "name": "stderr",
     "output_type": "stream",
     "text": [
      "/var/folders/dz/9bww86957tj5p8v0rpbpr3n00000gn/T/ipykernel_15077/1107030812.py:25: DeprecationWarning: `set_matplotlib_formats` is deprecated since IPython 7.23, directly use `matplotlib_inline.backend_inline.set_matplotlib_formats()`\n",
      "  set_matplotlib_formats('retina')\n"
     ]
    }
   ],
   "source": [
    "%load_ext autoreload\n",
    "%autoreload\n",
    "import numpy as np\n",
    "import jax\n",
    "import jax.numpy as jnp\n",
    "from jax import vmap, jit\n",
    "from functools import partial\n",
    "import sys\n",
    "import pickle\n",
    "from tqdm import tqdm\n",
    "\n",
    "sys.path.append(\"../LINX\")\n",
    "import linx.const as const\n",
    "from linx.nuclear import NuclearRates\n",
    "from linx.background import BackgroundModel\n",
    "from linx.abundances import AbundanceModel\n",
    "\n",
    "import matplotlib\n",
    "import matplotlib.pyplot as plt\n",
    "from matplotlib.lines import Line2D\n",
    "import corner\n",
    "import seaborn as sns\n",
    "\n",
    "from IPython.display import set_matplotlib_formats\n",
    "set_matplotlib_formats('retina')\n",
    "\n",
    "from plot_params import params\n",
    "matplotlib.pylab.rcParams.update(params)\n",
    "cols_default = plt.rcParams['axes.prop_cycle'].by_key()['color']\n",
    "\n",
    "# options for SVI imported below"
   ]
  },
  {
   "cell_type": "code",
   "execution_count": 19,
   "id": "3de5aebd-fd56-4533-8587-7ebfc29f2806",
   "metadata": {},
   "outputs": [
    {
     "name": "stdout",
     "output_type": "stream",
     "text": [
      "\n",
      "\n",
      "`\\         /´  ||||        ||||  |||||     ||||  ||||   ||||\n",
      " /\\_______/\\   ||||        ||||  |||||||   ||||   |||| ||||\n",
      " ) __` ´__ (   ||||        ||||  |||| |||| ||||    |||||||\n",
      "/  `-|_|-´  \\  ||||        ||||  ||||  |||| |||    ||||||| \n",
      "/   (_x_)   \\  ||||||||||  ||||  ||||   |||||||   |||| ||||\n",
      "  )  `-´  (    ||||||||||  ||||  ||||    ||||||  ||||   ||||\n",
      " \n",
      "Compiling thermodynamics model...\n"
     ]
    }
   ],
   "source": [
    "thermo_model_DNeff = BackgroundModel()\n",
    "\n",
    "(\n",
    "    t_vec_ref, a_vec_ref, rho_g_vec, rho_nu_vec, rho_NP_vec, P_NP_vec, Neff_vec \n",
    ") = thermo_model_DNeff(0.)"
   ]
  },
  {
   "cell_type": "code",
   "execution_count": 20,
   "id": "ff627338-18dd-4f06-8c3f-d139ee1521d4",
   "metadata": {},
   "outputs": [],
   "source": [
    "# comment or uncomment to toggle which reaction network to use\n",
    "\n",
    "# network = 'key_PRIMAT_2022'\n",
    "# network = 'key_PRIMAT_2018'\n",
    "# network = 'key_PArth'\n",
    "network = 'key_NACREII'\n",
    "GetAbundances = AbundanceModel(NuclearRates(nuclear_net=network))"
   ]
  },
  {
   "cell_type": "markdown",
   "id": "4ed82079-c229-4b8c-91ea-991bb0eb08f5",
   "metadata": {},
   "source": [
    "# Inference for $\\eta$, profiling over rates"
   ]
  },
  {
   "cell_type": "code",
   "execution_count": 25,
   "id": "b9082be6-b736-4d5b-9db0-f7867dc690f0",
   "metadata": {},
   "outputs": [],
   "source": [
    "def abundances(params): \n",
    "    # n_reactions = len(GetAbundances.nuclear_net.reactions)\n",
    "\n",
    "    Yn, Yp, Yd, Yt, YHe3, Ya, YLi7, YBe7 = GetAbundances(\n",
    "        jnp.array(rho_g_vec), \n",
    "        jnp.array(rho_nu_vec), \n",
    "        jnp.zeros_like(rho_g_vec), \n",
    "        jnp.zeros_like(rho_g_vec), \n",
    "        a_vec = a_vec_ref, \n",
    "        t_vec = t_vec_ref,\n",
    "        eta_fac = params[0], \n",
    "        tau_n_fac = params[1],\n",
    "        nuclear_rates_q = params[2:]\n",
    "    )\n",
    "    return Yn, Yp, Yd, Yt, YHe3, Ya, YLi7, YBe7\n",
    "    \n",
    "# define and jit a log likelihood\n",
    "@partial(jax.jit, static_argnames=['return_abundances'])\n",
    "def get_m2LL(params, return_abundances=False):\n",
    "    \"\"\"\n",
    "    params should be vector of length 14, with params[0] = eta_fac (mean = 1, broad uniform prior(e.g. 0.1 - 10)), \n",
    "    params[1] = tau_n_fac ~ N(mean = 1, sigma = const.sigma_tau_n / const.tau_n) \n",
    "    params[2:] = p_nuclear_process ~ N(0,1) corresponding to npdg, dpHe3g, ddHe3n, ddtp, tpag, tdan, \n",
    "    taLi7g, He3ntp, He3dap, He3aBe7g, Be7nLi7p, Li7paa. \n",
    "    \"\"\"\n",
    "\n",
    "    res =  abundances(params)\n",
    "\n",
    "    Y_p      = res[5] * 4\n",
    "    D_over_H = res[2] / res[1]\n",
    "\n",
    "    Y_p_obs_mu   = 0.2449 # Aver 2015\n",
    "    Y_p_obs_sig  = 0.004\n",
    "\n",
    "\n",
    "    D_over_H_obs_mu  = 2.527e-5 # Cooke 2018\n",
    "    D_over_H_obs_sig = 3e-7\n",
    "\n",
    "    m2LL = (Y_p - Y_p_obs_mu)**2 / Y_p_obs_sig**2 + (D_over_H - D_over_H_obs_mu)**2 / D_over_H_obs_sig**2\n",
    "\n",
    "    if return_abundances: \n",
    "        return m2LL, (Y_p, D_over_H)\n",
    "\n",
    "    else: \n",
    "        return m2LL"
   ]
  },
  {
   "cell_type": "code",
   "execution_count": 26,
   "id": "3a60ff49-3784-4bb7-89eb-8108172f0029",
   "metadata": {},
   "outputs": [],
   "source": [
    "# vectorized version\n",
    "get_m2LL_v = jit(vmap(get_m2LL, in_axes=0))"
   ]
  },
  {
   "cell_type": "code",
   "execution_count": 27,
   "id": "fb1588c3-1dd5-49ba-8a84-222ca615e0a7",
   "metadata": {},
   "outputs": [],
   "source": [
    "# define arrays--vary only eta_fac and npdg rate\n",
    "eta_fac_ary = jnp.logspace(jnp.log10(5.6e-10), jnp.log10(6.4e-10), num=50) / const.eta0\n",
    "npdg_p_ary = jax.random.normal(key=jax.random.PRNGKey(0),shape=(11,))\n",
    "p_meshes = np.meshgrid(eta_fac_ary, [1.], npdg_p_ary, [0], [0],[0], [0], [0], [0], [0], [0], [0], [0], [0])\n",
    "p_ary = jnp.reshape(jnp.stack(p_meshes, -1),(-1, 14))"
   ]
  },
  {
   "cell_type": "code",
   "execution_count": 28,
   "id": "eff33cdc-9ec7-4000-914c-f0ecee267bc6",
   "metadata": {},
   "outputs": [
    {
     "name": "stdout",
     "output_type": "stream",
     "text": [
      "Compiling abundance model...\n"
     ]
    }
   ],
   "source": [
    "# get likelihoods for each point\n",
    "m2LL = get_m2LL_v(p_ary)"
   ]
  },
  {
   "cell_type": "code",
   "execution_count": 29,
   "id": "09871e46-3e1b-44b3-8493-62d0d1cf3bf5",
   "metadata": {},
   "outputs": [
    {
     "data": {
      "text/plain": [
       "(-1.0, 5.0)"
      ]
     },
     "execution_count": 29,
     "metadata": {},
     "output_type": "execute_result"
    },
    {
     "data": {
      "image/png": "[encoded data removed]",
      "text/plain": [
       "<Figure size 443.077x360 with 1 Axes>"
      ]
     },
     "metadata": {
      "image/png": {
       "height": 340,
       "width": 422
      },
      "needs_background": "light"
     },
     "output_type": "display_data"
    }
   ],
   "source": [
    "data = np.concatenate((p_ary, m2LL[:,None]),-1)\n",
    "data_reduced = data[:,(0,2,-1)]\n",
    "# has shape eta x npdg x 3, where 3 entries are (eta (0), npdg (2), m2LL (-1))\n",
    "data_reduced_3D = data_reduced.reshape((len(eta_fac_ary), len(npdg_p_ary), 3))\n",
    "\n",
    "m2LL_min = np.min(data_reduced_3D[...,2])\n",
    "# profile over npdg\n",
    "m2LL_eta_min = np.min(data_reduced_3D[...,2], axis=(1))\n",
    "\n",
    "plt.figure()\n",
    "\n",
    "plt.plot(eta_fac_ary * const.eta0, m2LL_eta_min - m2LL_min)\n",
    "plt.axhline(1., ls=':', color='gray')\n",
    "plt.axhline(3.84, ls='--', color='gray')\n",
    "plt.axvline(5.875e-10, color=cols_default[1], ls=':', alpha=0.5)\n",
    "plt.axvline(6.275e-10, color=cols_default[1], ls=':', alpha=0.5)\n",
    "\n",
    "plt.xlabel(r'Baryon-to-Photon Ratio $\\eta$')\n",
    "plt.ylabel(r'$2 \\Delta \\ln L$')\n",
    "\n",
    "plt.xlim(5.8e-10, 6.4e-10)\n",
    "plt.ylim(-1, 5)"
   ]
  },
  {
   "cell_type": "code",
   "execution_count": 30,
   "id": "a4369bef-e20d-4338-8a06-346671653e52",
   "metadata": {},
   "outputs": [],
   "source": [
    "# let's repeat the same procedure from above, but profile over two reactions\n",
    "eta_fac_ary = jnp.logspace(jnp.log10(5.8e-10), jnp.log10(6.4e-10), num=50) / const.eta0\n",
    "npdg_p_ary = jax.random.normal(key=jax.random.PRNGKey(0),shape=(11,))\n",
    "dpHe3g_p_ary = jax.random.normal(key=jax.random.PRNGKey(0),shape=(16,))\n",
    "\n",
    "p_meshes = np.meshgrid(eta_fac_ary, [1.], npdg_p_ary, dpHe3g_p_ary, [0],[0], [0], [0], [0], [0], [0], [0], [0], [0])\n",
    "\n",
    "p_ary = jnp.reshape(jnp.stack(p_meshes, -1),(-1, 14))"
   ]
  },
  {
   "cell_type": "code",
   "execution_count": null,
   "id": "357667ce-1a9c-474e-9068-82385fb2ecc7",
   "metadata": {},
   "outputs": [],
   "source": [
    "# this will take longer than before\n",
    "m2LL = get_m2LL_v(p_ary)"
   ]
  },
  {
   "cell_type": "code",
   "execution_count": null,
   "id": "51b3e255-e5bf-4018-8c54-ff3a2ec4356c",
   "metadata": {},
   "outputs": [],
   "source": [
    "data = np.concatenate((p_ary, m2LL[:,None]),-1)\n",
    "data_reduced = data[:,(0,2,3,-1)]\n",
    "# has shape eta x npdg x dpHe3g x 4, where 4 entries is (eta, npdg, dpHe3g, m2LL)\n",
    "data_reduced_3D = data_reduced.reshape((len(eta_fac_ary), len(npdg_p_ary), len(dpHe3g_p_ary), 4))\n",
    "m2LL_min = np.min(data_reduced_3D[...,3])\n",
    "\n",
    "# profile over both reactions\n",
    "m2LL_eta_min = np.min(data_reduced_3D[...,3], axis=(1,2))\n",
    "\n",
    "plt.figure()\n",
    "\n",
    "plt.plot(eta_fac_ary * const.eta0, m2LL_eta_min - m2LL_min)\n",
    "plt.axhline(1., ls=':', color='gray')\n",
    "plt.axhline(3.84, ls='--', color='gray')\n",
    "plt.axvline(5.84e-10, color=cols_default[1], ls=':', alpha=0.5)\n",
    "plt.axvline(6.315e-10, color=cols_default[1], ls=':', alpha=0.5)\n",
    "\n",
    "plt.xlabel(r'Baryon-to-Photon Ratio $\\eta$')\n",
    "plt.ylabel(r'$2 \\Delta \\ln L$')\n",
    "\n",
    "plt.xlim(5.8e-10, 6.4e-10)"
   ]
  },
  {
   "cell_type": "markdown",
   "id": "f58ded4a-1ad9-4af4-870a-8b6b480fa823",
   "metadata": {},
   "source": [
    "Here, we find a non-Gaussian result, despite having Gaussian errors on our nuisance paramters.  However, the likelihood is not Gaussian in these variables, and instead the dependence is more complicated. \n",
    "\n",
    "Consider a simpler example--consider a likelihood $\\mathcal{L}(a,b)$ that depends very very weakly on $a$.  Then profiling over $b$ mostly returns the same value of $\\mathcal{L}(a, \\hat{b})$, until you go out of some (large) range in $a$."
   ]
  },
  {
   "cell_type": "markdown",
   "id": "12bdb3d5-295a-4b51-8d6e-60ceddd54f27",
   "metadata": {},
   "source": [
    "# Inference for $\\eta$ using SVI"
   ]
  },
  {
   "cell_type": "code",
   "execution_count": 10,
   "id": "01d19d2b-a091-45ec-9f85-7d88d07782b9",
   "metadata": {},
   "outputs": [],
   "source": [
    "# import numpyro and optax for SVI\n",
    "import numpyro\n",
    "import numpyro.distributions as dist\n",
    "from numpyro import optim\n",
    "from numpyro.distributions import constraints\n",
    "from numpyro.infer import Predictive, SVI, Trace_ELBO, autoguide\n",
    "from numpyro.infer import MCMC, NUTS, HMC\n",
    "import optax"
   ]
  },
  {
   "cell_type": "code",
   "execution_count": 11,
   "id": "58a596f7-f55d-4702-8d95-ae685649a1f7",
   "metadata": {},
   "outputs": [],
   "source": [
    "def model():\n",
    "    \n",
    "    # Forward model\n",
    "    eta_fac = numpyro.sample(\"eta_fac\", dist.Uniform(0.5, 1.5))\n",
    "    tau_fac = numpyro.sample(\"tau_fac\", dist.Uniform(0.8, 1.2))\n",
    "    p_nuclear = numpyro.sample( \"p_nuclear\", dist.Normal(np.zeros(12), np.ones(12)))\n",
    "\n",
    "    # Stack the parameters\n",
    "    params = jnp.hstack([eta_fac, tau_fac, p_nuclear])\n",
    "\n",
    "    log_like = -get_m2LL(params)\n",
    "    return numpyro.factor('log_like', log_like)"
   ]
  },
  {
   "cell_type": "code",
   "execution_count": 12,
   "id": "22bf44bb-26ab-4a0c-99f5-1fcfb827af22",
   "metadata": {},
   "outputs": [
    {
     "name": "stderr",
     "output_type": "stream",
     "text": [
      "  0%|                                       | 2/1000 [02:14<18:42:16, 67.47s/it]\n"
     ]
    },
    {
     "ename": "XlaRuntimeError",
     "evalue": "INTERNAL: Generated function failed: CpuCallback error: EqxRuntimeError: The linear solver returned non-finite (NaN or inf) output. This usually means that the\noperator was not well-posed, and that the solver does not support this.\n\nIf you are trying solve a linear least-squares problem then you should pass\n`solver=AutoLinearSolver(well_posed=False)`. By default `lineax.linear_solve`\nassumes that the operator is square and nonsingular.\n\nIf you *were* expecting this solver to work with this operator, then it may be because:\n\n(a) the operator is singular, and your code has a bug; or\n\n(b) the operator was nearly singular (i.e. it had a high condition number:\n    `jnp.linalg.cond(operator.as_matrix())` is large), and the solver suffered from\n    numerical instability issues; or\n\n(c) the operator is declared to exhibit a certain property (e.g. positive definiteness)\n    that is does not actually satisfy.\n\nAt:\n  /Users/caragiovanetti/anaconda3/envs/jaxpy311/lib/python3.11/site-packages/equinox/_errors.py(70): raises\n  /Users/caragiovanetti/anaconda3/envs/jaxpy311/lib/python3.11/site-packages/jax/_src/callback.py(262): _flat_callback\n  /Users/caragiovanetti/anaconda3/envs/jaxpy311/lib/python3.11/site-packages/jax/_src/callback.py(53): pure_callback_impl\n  /Users/caragiovanetti/anaconda3/envs/jaxpy311/lib/python3.11/site-packages/jax/_src/callback.py(192): _callback\n  /Users/caragiovanetti/anaconda3/envs/jaxpy311/lib/python3.11/site-packages/jax/_src/interpreters/mlir.py(2447): _wrapped_callback\n  /Users/caragiovanetti/anaconda3/envs/jaxpy311/lib/python3.11/site-packages/jax/_src/interpreters/pxla.py(1201): __call__\n  /Users/caragiovanetti/anaconda3/envs/jaxpy311/lib/python3.11/site-packages/jax/_src/profiler.py(336): wrapper\n  /Users/caragiovanetti/anaconda3/envs/jaxpy311/lib/python3.11/site-packages/jax/_src/pjit.py(1348): _pjit_call_impl_python\n  /Users/caragiovanetti/anaconda3/envs/jaxpy311/lib/python3.11/site-packages/jax/_src/pjit.py(1392): call_impl_cache_miss\n  /Users/caragiovanetti/anaconda3/envs/jaxpy311/lib/python3.11/site-packages/jax/_src/pjit.py(1415): _pjit_call_impl\n  /Users/caragiovanetti/anaconda3/envs/jaxpy311/lib/python3.11/site-packages/jax/_src/core.py(913): process_primitive\n  /Users/caragiovanetti/anaconda3/envs/jaxpy311/lib/python3.11/site-packages/jax/_src/core.py(423): bind_with_trace\n  /Users/caragiovanetti/anaconda3/envs/jaxpy311/lib/python3.11/site-packages/jax/_src/core.py(2727): bind\n  /Users/caragiovanetti/anaconda3/envs/jaxpy311/lib/python3.11/site-packages/jax/_src/pjit.py(143): _python_pjit_helper\n  /Users/caragiovanetti/anaconda3/envs/jaxpy311/lib/python3.11/site-packages/jax/_src/pjit.py(248): cache_miss\n  /Users/caragiovanetti/anaconda3/envs/jaxpy311/lib/python3.11/site-packages/jax/_src/traceback_util.py(179): reraise_with_filtered_traceback\n  /Users/caragiovanetti/anaconda3/envs/jaxpy311/lib/python3.11/site-packages/numpyro/infer/svi.py(398): run\n  /var/folders/dz/9bww86957tj5p8v0rpbpr3n00000gn/T/ipykernel_9913/1975220852.py(8): <module>\n  /Users/caragiovanetti/anaconda3/envs/jaxpy311/lib/python3.11/site-packages/IPython/core/interactiveshell.py(3553): run_code\n  /Users/caragiovanetti/anaconda3/envs/jaxpy311/lib/python3.11/site-packages/IPython/core/interactiveshell.py(3493): run_ast_nodes\n  /Users/caragiovanetti/anaconda3/envs/jaxpy311/lib/python3.11/site-packages/IPython/core/interactiveshell.py(3311): run_cell_async\n  /Users/caragiovanetti/anaconda3/envs/jaxpy311/lib/python3.11/site-packages/IPython/core/async_helpers.py(129): _pseudo_sync_runner\n  /Users/caragiovanetti/anaconda3/envs/jaxpy311/lib/python3.11/site-packages/IPython/core/interactiveshell.py(3106): _run_cell\n  /Users/caragiovanetti/anaconda3/envs/jaxpy311/lib/python3.11/site-packages/IPython/core/interactiveshell.py(3051): run_cell\n  /Users/caragiovanetti/anaconda3/envs/jaxpy311/lib/python3.11/site-packages/ipykernel/zmqshell.py(549): run_cell\n  /Users/caragiovanetti/anaconda3/envs/jaxpy311/lib/python3.11/site-packages/ipykernel/ipkernel.py(446): do_execute\n  /Users/caragiovanetti/anaconda3/envs/jaxpy311/lib/python3.11/site-packages/ipykernel/kernelbase.py(775): execute_request\n  /Users/caragiovanetti/anaconda3/envs/jaxpy311/lib/python3.11/site-packages/ipykernel/ipkernel.py(359): execute_request\n  /Users/caragiovanetti/anaconda3/envs/jaxpy311/lib/python3.11/site-packages/ipykernel/kernelbase.py(437): dispatch_shell\n  /Users/caragiovanetti/anaconda3/envs/jaxpy311/lib/python3.11/site-packages/ipykernel/kernelbase.py(531): process_one\n  /Users/caragiovanetti/anaconda3/envs/jaxpy311/lib/python3.11/site-packages/ipykernel/kernelbase.py(542): dispatch_queue\n  /Users/caragiovanetti/anaconda3/envs/jaxpy311/lib/python3.11/asyncio/events.py(80): _run\n  /Users/caragiovanetti/anaconda3/envs/jaxpy311/lib/python3.11/asyncio/base_events.py(1922): _run_once\n  /Users/caragiovanetti/anaconda3/envs/jaxpy311/lib/python3.11/asyncio/base_events.py(607): run_forever\n  /Users/caragiovanetti/anaconda3/envs/jaxpy311/lib/python3.11/site-packages/tornado/platform/asyncio.py(205): start\n  /Users/caragiovanetti/anaconda3/envs/jaxpy311/lib/python3.11/site-packages/ipykernel/kernelapp.py(739): start\n  /Users/caragiovanetti/anaconda3/envs/jaxpy311/lib/python3.11/site-packages/traitlets/config/application.py(1075): launch_instance\n  /Users/caragiovanetti/anaconda3/envs/jaxpy311/lib/python3.11/site-packages/ipykernel_launcher.py(18): <module>\n  <frozen runpy>(88): _run_code\n  <frozen runpy>(198): _run_module_as_main\n",
     "output_type": "error",
     "traceback": [
      "\u001b[0;31m---------------------------------------------------------------------------\u001b[0m",
      "\u001b[0;31mXlaRuntimeError\u001b[0m                           Traceback (most recent call last)",
      "Cell \u001b[0;32mIn[12], line 8\u001b[0m\n\u001b[1;32m      6\u001b[0m optimizer \u001b[38;5;241m=\u001b[39m optim\u001b[38;5;241m.\u001b[39moptax_to_numpyro(optax\u001b[38;5;241m.\u001b[39madam(lr))\n\u001b[1;32m      7\u001b[0m svi \u001b[38;5;241m=\u001b[39m SVI(model, guide, optimizer, Trace_ELBO(num_particles\u001b[38;5;241m=\u001b[39m\u001b[38;5;241m2\u001b[39m),)\n\u001b[0;32m----> 8\u001b[0m svi_results \u001b[38;5;241m=\u001b[39m \u001b[43msvi\u001b[49m\u001b[38;5;241;43m.\u001b[39;49m\u001b[43mrun\u001b[49m\u001b[43m(\u001b[49m\u001b[43mrng\u001b[49m\u001b[43m,\u001b[49m\u001b[43m \u001b[49m\u001b[43mn_steps\u001b[49m\u001b[43m)\u001b[49m\n",
      "File \u001b[0;32m~/anaconda3/envs/jaxpy311/lib/python3.11/site-packages/numpyro/infer/svi.py:398\u001b[0m, in \u001b[0;36mSVI.run\u001b[0;34m(self, rng_key, num_steps, progress_bar, stable_update, forward_mode_differentiation, init_state, init_params, *args, **kwargs)\u001b[0m\n\u001b[1;32m    396\u001b[0m batch \u001b[38;5;241m=\u001b[39m \u001b[38;5;28mmax\u001b[39m(num_steps \u001b[38;5;241m/\u001b[39m\u001b[38;5;241m/\u001b[39m \u001b[38;5;241m20\u001b[39m, \u001b[38;5;241m1\u001b[39m)\n\u001b[1;32m    397\u001b[0m \u001b[38;5;28;01mfor\u001b[39;00m i \u001b[38;5;129;01min\u001b[39;00m t:\n\u001b[0;32m--> 398\u001b[0m     svi_state, loss \u001b[38;5;241m=\u001b[39m \u001b[43mjit\u001b[49m\u001b[43m(\u001b[49m\u001b[43mbody_fn\u001b[49m\u001b[43m)\u001b[49m\u001b[43m(\u001b[49m\u001b[43msvi_state\u001b[49m\u001b[43m,\u001b[49m\u001b[43m \u001b[49m\u001b[38;5;28;43;01mNone\u001b[39;49;00m\u001b[43m)\u001b[49m\n\u001b[1;32m    399\u001b[0m     losses\u001b[38;5;241m.\u001b[39mappend(jax\u001b[38;5;241m.\u001b[39mdevice_get(loss))\n\u001b[1;32m    400\u001b[0m     \u001b[38;5;28;01mif\u001b[39;00m i \u001b[38;5;241m%\u001b[39m batch \u001b[38;5;241m==\u001b[39m \u001b[38;5;241m0\u001b[39m:\n",
      "    \u001b[0;31m[... skipping hidden 10 frame]\u001b[0m\n",
      "File \u001b[0;32m~/anaconda3/envs/jaxpy311/lib/python3.11/site-packages/jax/_src/interpreters/pxla.py:1201\u001b[0m, in \u001b[0;36mExecuteReplicated.__call__\u001b[0;34m(self, *args)\u001b[0m\n\u001b[1;32m   1198\u001b[0m \u001b[38;5;28;01mif\u001b[39;00m (\u001b[38;5;28mself\u001b[39m\u001b[38;5;241m.\u001b[39mordered_effects \u001b[38;5;129;01mor\u001b[39;00m \u001b[38;5;28mself\u001b[39m\u001b[38;5;241m.\u001b[39mhas_unordered_effects\n\u001b[1;32m   1199\u001b[0m     \u001b[38;5;129;01mor\u001b[39;00m \u001b[38;5;28mself\u001b[39m\u001b[38;5;241m.\u001b[39mhas_host_callbacks):\n\u001b[1;32m   1200\u001b[0m   input_bufs \u001b[38;5;241m=\u001b[39m \u001b[38;5;28mself\u001b[39m\u001b[38;5;241m.\u001b[39m_add_tokens_to_inputs(input_bufs)\n\u001b[0;32m-> 1201\u001b[0m   results \u001b[38;5;241m=\u001b[39m \u001b[38;5;28;43mself\u001b[39;49m\u001b[38;5;241;43m.\u001b[39;49m\u001b[43mxla_executable\u001b[49m\u001b[38;5;241;43m.\u001b[39;49m\u001b[43mexecute_sharded\u001b[49m\u001b[43m(\u001b[49m\n\u001b[1;32m   1202\u001b[0m \u001b[43m      \u001b[49m\u001b[43minput_bufs\u001b[49m\u001b[43m,\u001b[49m\u001b[43m \u001b[49m\u001b[43mwith_tokens\u001b[49m\u001b[38;5;241;43m=\u001b[39;49m\u001b[38;5;28;43;01mTrue\u001b[39;49;00m\n\u001b[1;32m   1203\u001b[0m \u001b[43m  \u001b[49m\u001b[43m)\u001b[49m\n\u001b[1;32m   1204\u001b[0m   result_token_bufs \u001b[38;5;241m=\u001b[39m results\u001b[38;5;241m.\u001b[39mdisassemble_prefix_into_single_device_arrays(\n\u001b[1;32m   1205\u001b[0m       \u001b[38;5;28mlen\u001b[39m(\u001b[38;5;28mself\u001b[39m\u001b[38;5;241m.\u001b[39mordered_effects))\n\u001b[1;32m   1206\u001b[0m   sharded_runtime_token \u001b[38;5;241m=\u001b[39m results\u001b[38;5;241m.\u001b[39mconsume_token()\n",
      "\u001b[0;31mXlaRuntimeError\u001b[0m: INTERNAL: Generated function failed: CpuCallback error: EqxRuntimeError: The linear solver returned non-finite (NaN or inf) output. This usually means that the\noperator was not well-posed, and that the solver does not support this.\n\nIf you are trying solve a linear least-squares problem then you should pass\n`solver=AutoLinearSolver(well_posed=False)`. By default `lineax.linear_solve`\nassumes that the operator is square and nonsingular.\n\nIf you *were* expecting this solver to work with this operator, then it may be because:\n\n(a) the operator is singular, and your code has a bug; or\n\n(b) the operator was nearly singular (i.e. it had a high condition number:\n    `jnp.linalg.cond(operator.as_matrix())` is large), and the solver suffered from\n    numerical instability issues; or\n\n(c) the operator is declared to exhibit a certain property (e.g. positive definiteness)\n    that is does not actually satisfy.\n\nAt:\n  /Users/caragiovanetti/anaconda3/envs/jaxpy311/lib/python3.11/site-packages/equinox/_errors.py(70): raises\n  /Users/caragiovanetti/anaconda3/envs/jaxpy311/lib/python3.11/site-packages/jax/_src/callback.py(262): _flat_callback\n  /Users/caragiovanetti/anaconda3/envs/jaxpy311/lib/python3.11/site-packages/jax/_src/callback.py(53): pure_callback_impl\n  /Users/caragiovanetti/anaconda3/envs/jaxpy311/lib/python3.11/site-packages/jax/_src/callback.py(192): _callback\n  /Users/caragiovanetti/anaconda3/envs/jaxpy311/lib/python3.11/site-packages/jax/_src/interpreters/mlir.py(2447): _wrapped_callback\n  /Users/caragiovanetti/anaconda3/envs/jaxpy311/lib/python3.11/site-packages/jax/_src/interpreters/pxla.py(1201): __call__\n  /Users/caragiovanetti/anaconda3/envs/jaxpy311/lib/python3.11/site-packages/jax/_src/profiler.py(336): wrapper\n  /Users/caragiovanetti/anaconda3/envs/jaxpy311/lib/python3.11/site-packages/jax/_src/pjit.py(1348): _pjit_call_impl_python\n  /Users/caragiovanetti/anaconda3/envs/jaxpy311/lib/python3.11/site-packages/jax/_src/pjit.py(1392): call_impl_cache_miss\n  /Users/caragiovanetti/anaconda3/envs/jaxpy311/lib/python3.11/site-packages/jax/_src/pjit.py(1415): _pjit_call_impl\n  /Users/caragiovanetti/anaconda3/envs/jaxpy311/lib/python3.11/site-packages/jax/_src/core.py(913): process_primitive\n  /Users/caragiovanetti/anaconda3/envs/jaxpy311/lib/python3.11/site-packages/jax/_src/core.py(423): bind_with_trace\n  /Users/caragiovanetti/anaconda3/envs/jaxpy311/lib/python3.11/site-packages/jax/_src/core.py(2727): bind\n  /Users/caragiovanetti/anaconda3/envs/jaxpy311/lib/python3.11/site-packages/jax/_src/pjit.py(143): _python_pjit_helper\n  /Users/caragiovanetti/anaconda3/envs/jaxpy311/lib/python3.11/site-packages/jax/_src/pjit.py(248): cache_miss\n  /Users/caragiovanetti/anaconda3/envs/jaxpy311/lib/python3.11/site-packages/jax/_src/traceback_util.py(179): reraise_with_filtered_traceback\n  /Users/caragiovanetti/anaconda3/envs/jaxpy311/lib/python3.11/site-packages/numpyro/infer/svi.py(398): run\n  /var/folders/dz/9bww86957tj5p8v0rpbpr3n00000gn/T/ipykernel_9913/1975220852.py(8): <module>\n  /Users/caragiovanetti/anaconda3/envs/jaxpy311/lib/python3.11/site-packages/IPython/core/interactiveshell.py(3553): run_code\n  /Users/caragiovanetti/anaconda3/envs/jaxpy311/lib/python3.11/site-packages/IPython/core/interactiveshell.py(3493): run_ast_nodes\n  /Users/caragiovanetti/anaconda3/envs/jaxpy311/lib/python3.11/site-packages/IPython/core/interactiveshell.py(3311): run_cell_async\n  /Users/caragiovanetti/anaconda3/envs/jaxpy311/lib/python3.11/site-packages/IPython/core/async_helpers.py(129): _pseudo_sync_runner\n  /Users/caragiovanetti/anaconda3/envs/jaxpy311/lib/python3.11/site-packages/IPython/core/interactiveshell.py(3106): _run_cell\n  /Users/caragiovanetti/anaconda3/envs/jaxpy311/lib/python3.11/site-packages/IPython/core/interactiveshell.py(3051): run_cell\n  /Users/caragiovanetti/anaconda3/envs/jaxpy311/lib/python3.11/site-packages/ipykernel/zmqshell.py(549): run_cell\n  /Users/caragiovanetti/anaconda3/envs/jaxpy311/lib/python3.11/site-packages/ipykernel/ipkernel.py(446): do_execute\n  /Users/caragiovanetti/anaconda3/envs/jaxpy311/lib/python3.11/site-packages/ipykernel/kernelbase.py(775): execute_request\n  /Users/caragiovanetti/anaconda3/envs/jaxpy311/lib/python3.11/site-packages/ipykernel/ipkernel.py(359): execute_request\n  /Users/caragiovanetti/anaconda3/envs/jaxpy311/lib/python3.11/site-packages/ipykernel/kernelbase.py(437): dispatch_shell\n  /Users/caragiovanetti/anaconda3/envs/jaxpy311/lib/python3.11/site-packages/ipykernel/kernelbase.py(531): process_one\n  /Users/caragiovanetti/anaconda3/envs/jaxpy311/lib/python3.11/site-packages/ipykernel/kernelbase.py(542): dispatch_queue\n  /Users/caragiovanetti/anaconda3/envs/jaxpy311/lib/python3.11/asyncio/events.py(80): _run\n  /Users/caragiovanetti/anaconda3/envs/jaxpy311/lib/python3.11/asyncio/base_events.py(1922): _run_once\n  /Users/caragiovanetti/anaconda3/envs/jaxpy311/lib/python3.11/asyncio/base_events.py(607): run_forever\n  /Users/caragiovanetti/anaconda3/envs/jaxpy311/lib/python3.11/site-packages/tornado/platform/asyncio.py(205): start\n  /Users/caragiovanetti/anaconda3/envs/jaxpy311/lib/python3.11/site-packages/ipykernel/kernelapp.py(739): start\n  /Users/caragiovanetti/anaconda3/envs/jaxpy311/lib/python3.11/site-packages/traitlets/config/application.py(1075): launch_instance\n  /Users/caragiovanetti/anaconda3/envs/jaxpy311/lib/python3.11/site-packages/ipykernel_launcher.py(18): <module>\n  <frozen runpy>(88): _run_code\n  <frozen runpy>(198): _run_module_as_main\n"
     ]
    }
   ],
   "source": [
    "n_steps = 1000\n",
    "lr = 5e-4\n",
    "\n",
    "rng = jax.random.PRNGKey(42)\n",
    "guide = autoguide.AutoIAFNormal(model)\n",
    "optimizer = optim.optax_to_numpyro(optax.adam(lr))\n",
    "svi = SVI(model, guide, optimizer, Trace_ELBO(num_particles=2),)\n",
    "svi_results = svi.run(rng, n_steps)"
   ]
  },
  {
   "cell_type": "code",
   "execution_count": null,
   "id": "f5611958-3907-4d96-82cd-a300b81debf3",
   "metadata": {},
   "outputs": [],
   "source": [
    "num_samples = 100000\n",
    "\n",
    "rng, _ = jax.random.split(rng)\n",
    "posterior_dict = guide.sample_posterior(rng_key=rng, params=svi_results.params, sample_shape=(num_samples,))"
   ]
  },
  {
   "cell_type": "code",
   "execution_count": null,
   "id": "d17e0ec6-0fb8-43f6-aea4-57b766201b52",
   "metadata": {},
   "outputs": [],
   "source": [
    "samples_norm = np.concatenate((posterior_dict['eta_fac'][:, None], posterior_dict['tau_fac'][:, None], posterior_dict['p_nuclear']), -1)"
   ]
  },
  {
   "cell_type": "code",
   "execution_count": null,
   "id": "28edd65a-5889-4307-97db-aebbdf95b0a6",
   "metadata": {},
   "outputs": [],
   "source": [
    "# get the log likelihood and the abundances, and vectorize\n",
    "get_m2LL_ab = partial(get_m2LL, return_abundances=True)\n",
    "get_m2LL_ab_v = vmap(get_m2LL_ab)\n",
    "\n",
    "out = get_m2LL_ab_v(samples_norm)\n",
    "Yp_samples, D_over_H_samples = out[1]"
   ]
  },
  {
   "cell_type": "code",
   "execution_count": null,
   "id": "f48fad56-64ed-4bc1-b775-966210e6181d",
   "metadata": {},
   "outputs": [],
   "source": [
    "samples = np.concatenate((posterior_dict['eta_fac'][:, None] * const.eta0, posterior_dict['tau_fac'][:, None] * const.tau_n, posterior_dict['p_nuclear']), -1)"
   ]
  },
  {
   "cell_type": "code",
   "execution_count": null,
   "id": "681e4734-7346-4aec-a208-84803a51a123",
   "metadata": {},
   "outputs": [],
   "source": [
    "param_names = [\n",
    "    r\"$\\eta$\",     # eta_fac\n",
    "    r\"$\\tau_{n}$\", # tau_n_fac\n",
    "    r\"$p_\\mathrm{npdg}$\",       # p_nuclear_process (1)\n",
    "    r\"$p_{\\mathrm{dpHe3g}}$\",     # p_nuclear_process (2)\n",
    "    r\"$p_{\\mathrm{ddHe3n}}$\",     # p_nuclear_process (3)\n",
    "    r\"$p_{\\mathrm{ddtp}}$\",       # p_nuclear_process (4)\n",
    "    r\"$p_{\\mathrm{tpag}}$\",       # p_nuclear_process (5)\n",
    "    r\"$p_{\\mathrm{tdan}}$\",       # p_nuclear_process (6)\n",
    "    r\"$p_{\\mathrm{taLi7g}}$\",     # p_nuclear_process (7)\n",
    "    r\"$p_{\\mathrm{He3ntp}}$\",     # p_nuclear_process (8)\n",
    "    r\"$p_{\\mathrm{He3dap}}$\",     # p_nuclear_process (9)\n",
    "    r\"$p_{\\mathrm{He3aBe7g}}$\",   # p_nuclear_process (10)\n",
    "    r\"$p_{\\mathrm{Be7nLi7p}}$\",   # p_nuclear_process (11)\n",
    "    r\"$p_{\\mathrm{Li7paa}}$\"      # p_nuclear_process (12)\n",
    "]"
   ]
  },
  {
   "cell_type": "code",
   "execution_count": null,
   "id": "e97b9d40-2efc-45ba-87cc-37f696d01244",
   "metadata": {},
   "outputs": [],
   "source": [
    "# Enable LaTeX\n",
    "plt.rc('text', usetex=True)\n",
    "plot_args = {\"bins\": 20, \"plot_datapoints\": False, \"plot_density\": True}\n",
    "\n",
    "# Plot the corner plot\n",
    "corner.corner(samples, labels=param_names, color='firebrick', **plot_args);\n",
    "filename = 'cornerplot.pdf'\n",
    "# plt.savefig(filename, bbox_inches='tight')"
   ]
  },
  {
   "cell_type": "code",
   "execution_count": null,
   "id": "24782947-ceb7-4537-831b-bda50cf595e9",
   "metadata": {},
   "outputs": [],
   "source": [
    "corner.corner(samples[:, :2], labels=param_names[:2], color='firebrick', **plot_args);\n",
    "filename = 'corner_marg.pdf'\n",
    "# plt.savefig(filename, bbox_inches='tight')"
   ]
  },
  {
   "cell_type": "code",
   "execution_count": null,
   "id": "d78fc637-a416-445e-b40a-43fc62a65e44",
   "metadata": {},
   "outputs": [],
   "source": [
    "eta_bins = np.linspace(np.min(samples[:, 0]), np.max(samples[:, 0]), 10)\n",
    "bin_centers = (eta_bins[:-1] + eta_bins[1:]) / 2\n",
    "\n",
    "fig, ax = plt.subplots(2, 1, figsize=(8, 6))\n",
    "\n",
    "median_list = []\n",
    "one_sigma_list = []\n",
    "two_sigma_list = []\n",
    "\n",
    "for i_bin in range(len(eta_bins) - 1):\n",
    "    bin_center = (eta_bins[i_bin] + eta_bins[i_bin + 1]) / 2\n",
    "    idx_samples = np.where((samples[:, 0] > eta_bins[i_bin]) * (samples[:, 0] < eta_bins[i_bin + 1]))\n",
    "    median = np.median(Yp_samples[idx_samples])\n",
    "    one_sigma = np.percentile(Yp_samples[idx_samples], [16, 84])\n",
    "    two_sigma = np.percentile(Yp_samples[idx_samples], [2.5, 97.5])\n",
    "    median_list.append(median)\n",
    "    one_sigma_list.append(one_sigma)\n",
    "    two_sigma_list.append(two_sigma)\n",
    "\n",
    "color = sns.color_palette()[0]\n",
    "ax[0].plot(bin_centers, median_list, color=color)\n",
    "ax[0].fill_between(bin_centers, np.array(one_sigma_list)[:, 0], np.array(one_sigma_list)[:, 1], color=color, alpha=0.2)\n",
    "ax[0].fill_between(bin_centers, np.array(two_sigma_list)[:, 0], np.array(two_sigma_list)[:, 1], color=color, alpha=0.1)\n",
    "ax[0].set_ylabel(r'$Y_p$')\n",
    "# Turn off bottom x labels\n",
    "ax[0].set_xticklabels([])\n",
    "\n",
    "median_list = []\n",
    "one_sigma_list = []\n",
    "two_sigma_list = []\n",
    "\n",
    "for i_bin in range(len(eta_bins) - 1):\n",
    "    bin_center = (eta_bins[i_bin] + eta_bins[i_bin + 1]) / 2\n",
    "    idx_samples = np.where((samples[:, 0] > eta_bins[i_bin]) * (samples[:, 0] < eta_bins[i_bin + 1]))\n",
    "    median = np.median(D_over_H_samples[idx_samples])\n",
    "    one_sigma = np.percentile(D_over_H_samples[idx_samples], [16, 84])\n",
    "    two_sigma = np.percentile(D_over_H_samples[idx_samples], [2.5, 97.5])\n",
    "    median_list.append(median)\n",
    "    one_sigma_list.append(one_sigma)\n",
    "    two_sigma_list.append(two_sigma)\n",
    "\n",
    "color = sns.color_palette()[1]\n",
    "ax[1].plot(bin_centers, median_list, color=color)\n",
    "ax[1].fill_between(bin_centers, np.array(one_sigma_list)[:, 0], np.array(one_sigma_list)[:, 1], color=color, alpha=0.2)\n",
    "ax[1].fill_between(bin_centers, np.array(two_sigma_list)[:, 0], np.array(two_sigma_list)[:, 1], color=color, alpha=0.1)\n",
    "ax[1].set_xlabel(r'$\\eta$')\n",
    "ax[1].set_ylabel(r'$D/H$')\n",
    "\n",
    "ax[0].set_xlim(bin_centers[0], bin_centers[-1])\n",
    "ax[1].set_xlim(bin_centers[0], bin_centers[-1])\n",
    "\n",
    "# Show y label ticks in scientific notation\n",
    "ax[1].ticklabel_format(axis='y', style='sci', scilimits=(0, 0))\n",
    "\n",
    "plt.tight_layout()\n",
    "filename ='eta.pdf'\n",
    "# plt.savefig(filename, bbox_inches='tight')"
   ]
  },
  {
   "cell_type": "code",
   "execution_count": null,
   "id": "91ecd057-809c-4e9e-9bc5-0e67edc85696",
   "metadata": {},
   "outputs": [],
   "source": []
  },
  {
   "cell_type": "code",
   "execution_count": null,
   "id": "49bd5c3d-92fd-4009-af6a-8466156300f1",
   "metadata": {},
   "outputs": [],
   "source": []
  },
  {
   "cell_type": "code",
   "execution_count": null,
   "id": "9c86cce8-0566-4d1c-abfe-326592ae686d",
   "metadata": {},
   "outputs": [],
   "source": []
  },
  {
   "cell_type": "code",
   "execution_count": null,
   "id": "f139cd3a-0c5f-49a2-bb10-d34c5cacd6f8",
   "metadata": {},
   "outputs": [],
   "source": []
  }
 ],
 "metadata": {
  "kernelspec": {
   "display_name": "Python 3 (ipykernel)",
   "language": "python",
   "name": "python3"
  },
  "language_info": {
   "codemirror_mode": {
    "name": "ipython",
    "version": 3
   },
   "file_extension": ".py",
   "mimetype": "text/x-python",
   "name": "python",
   "nbconvert_exporter": "python",
   "pygments_lexer": "ipython3",
   "version": "3.12.3"
  }
 },
 "nbformat": 4,
 "nbformat_minor": 5
}
