{
 "cells": [
  {
   "cell_type": "markdown",
   "metadata": {},
   "source": [
    "# Scanning over Baryon Abundance and Neutron Decay Lifetime"
   ]
  },
  {
   "cell_type": "markdown",
   "metadata": {},
   "source": [
    "## Preamble"
   ]
  },
  {
   "cell_type": "code",
   "execution_count": 1,
   "metadata": {},
   "outputs": [],
   "source": [
    "%load_ext autoreload"
   ]
  },
  {
   "cell_type": "code",
   "execution_count": 2,
   "metadata": {},
   "outputs": [],
   "source": [
    "%autoreload 2\n",
    "\n",
    "import numpy as np\n",
    "import matplotlib.pyplot as plt\n",
    "\n",
    "import sys\n",
    "sys.path.append('..')\n",
    "\n",
    "import numpy as np\n",
    "import jax.numpy as jnp\n",
    "from jax import vmap, jit\n",
    "import matplotlib.pyplot as plt\n",
    "import matplotlib.pylab as pylab\n",
    "\n",
    "%matplotlib inline"
   ]
  },
  {
   "cell_type": "code",
   "execution_count": 3,
   "metadata": {},
   "outputs": [],
   "source": [
    "# Load plot settings\n",
    "\n",
    "from plot_params import params\n",
    "pylab.rcParams.update(params)\n",
    "\n",
    "cols_default = plt.rcParams['axes.prop_cycle'].by_key()['color']"
   ]
  },
  {
   "cell_type": "code",
   "execution_count": 4,
   "metadata": {},
   "outputs": [],
   "source": [
    "from linx.background import BackgroundModel\n",
    "from linx.nuclear import NuclearRates \n",
    "from linx.abundances import AbundanceModel\n",
    "from linx.const import eta0, sigma_eta0, tau_n, sigma_tau_n "
   ]
  },
  {
   "cell_type": "markdown",
   "metadata": {},
   "source": [
    "This notebook demonstrates how to scan over various parameters using LINX. We will perform a 2D scan of the BBN likelihood assuming SBBN, as we vary $\\Omega_b h^2$ and $\\tau_n$. \n",
    "\n",
    "First, we compute the background quantities. "
   ]
  },
  {
   "cell_type": "code",
   "execution_count": 5,
   "metadata": {},
   "outputs": [
    {
     "name": "stdout",
     "output_type": "stream",
     "text": [
      "`\\         /´  ||||        ||||  |||||     ||||  ||||   ||||\n",
      " /\\_______/\\   ||||        ||||  |||||||   ||||   |||| ||||\n",
      " ) __` ´__ (   ||||        ||||  |||| |||| ||||    |||||||\n",
      "/  `-|_|-´  \\  ||||        ||||  ||||  |||| |||    ||||||| \n",
      "/   (_x_)   \\  ||||||||||  ||||  ||||   |||||||   |||| ||||\n",
      "  )  `-´  (    ||||||||||  ||||  ||||    ||||||  ||||   ||||\n",
      " \n",
      "Compiling thermodynamics model...\n"
     ]
    }
   ],
   "source": [
    "bkg_model = BackgroundModel()\n",
    "\n",
    "# Call the class. \n",
    "t_vec, a_vec, rho_g_vec, rho_nu_vec, rho_NP_vec, p_NP_vec, Neff_vec = bkg_model(0.) "
   ]
  },
  {
   "cell_type": "markdown",
   "metadata": {},
   "source": [
    "Next, we define an abundance model. We'll pick the `key_PRIMAT_2023` nuclear network. "
   ]
  },
  {
   "cell_type": "code",
   "execution_count": 6,
   "metadata": {},
   "outputs": [],
   "source": [
    "abd_model = AbundanceModel(\n",
    "    NuclearRates(nuclear_net='key_PRIMAT_2023')\n",
    ")"
   ]
  },
  {
   "cell_type": "markdown",
   "metadata": {},
   "source": [
    "We define the following BBN likelihood, based on Aver et al. and Cooke et al. for experimental measurements of $\\text{Y}_\\text{P}$ and D/H respectively: \n",
    "$$\n",
    "    -2 \\log \\mathcal{L} = \\left( \\frac{\\text{D/H}^\\text{pred} - \\text{D/H}^\\text{obs}}{\\sigma_{\\text{D/H}^\\text{obs}}} \\right)^2 + \\left( \\frac{\\text{Y}_\\text{P}^\\text{pred} - \\text{Y}_\\text{P}^\\text{obs}}{\\sigma_{\\text{Y}_\\text{P}^\\text{obs}}} \\right)^2\n",
    "$$\n",
    "We'll write a function for $-2 \\log \\mathcal{L}$, which we take to be a function of `eta_fac` and `tau_n_fac`, factors that multiply the default values of $\\Omega_b h^2$ (found in `const.omegabh2`) and $\\tau_n$ (found in `const.tau_n`) in the calculation. "
   ]
  },
  {
   "cell_type": "code",
   "execution_count": 7,
   "metadata": {},
   "outputs": [],
   "source": [
    "DH_obs_mean = 2.527e-5\n",
    "DH_obs_sig  = 0.03e-5\n",
    "\n",
    "YP_obs_mean = 0.2449\n",
    "YP_obs_sig  = 0.004 "
   ]
  },
  {
   "cell_type": "code",
   "execution_count": 8,
   "metadata": {},
   "outputs": [],
   "source": [
    "nuclear_rates_q = jnp.zeros(12) \n",
    "\n",
    "def get_m2LL(eta_fac, tau_n_fac): \n",
    "\n",
    "    sol = abd_model(\n",
    "        rho_g_vec, rho_nu_vec, \n",
    "        rho_NP_vec, p_NP_vec,\n",
    "        t_vec=t_vec, a_vec=a_vec, \n",
    "        eta_fac = jnp.asarray(eta_fac), \n",
    "        tau_n_fac = jnp.asarray(tau_n_fac), \n",
    "        nuclear_rates_q = nuclear_rates_q\n",
    "    )\n",
    "\n",
    "    DH_pred = sol[2] / sol[1] \n",
    "    YP_pred = sol[5] * 4 \n",
    "\n",
    "    return ((DH_pred - DH_obs_mean) / DH_obs_sig)**2 + ((YP_pred - YP_obs_mean) / YP_obs_sig)**2 "
   ]
  },
  {
   "cell_type": "markdown",
   "metadata": {},
   "source": [
    "We now define a vectorized version of `get_m2LL`. We want to vectorize over both `eta_fac` and `tau_n_fac`, so this requires nested calls of `vmap`: the inside call vectorizes over `tau_n_fac`, and the outside call vectorizes over `eta_fac`. The final `jit` function compiles everything. The function `get_m2LL_v` outputs an array that has dimensions `eta_fac x tau_n_fac`. "
   ]
  },
  {
   "cell_type": "code",
   "execution_count": 9,
   "metadata": {},
   "outputs": [],
   "source": [
    "get_m2LL_v = jit(vmap(vmap(get_m2LL, in_axes=(None,0)), in_axes=(0,None))) "
   ]
  },
  {
   "cell_type": "markdown",
   "metadata": {},
   "source": [
    "Next, we define the values of $\\eta$ and $\\tau_n$ to scan over, and then obtain an array of $-2 \\log \\mathcal{L}$: "
   ]
  },
  {
   "cell_type": "code",
   "execution_count": 10,
   "metadata": {},
   "outputs": [
    {
     "name": "stdout",
     "output_type": "stream",
     "text": [
      "Compiling abundance model...\n"
     ]
    }
   ],
   "source": [
    "eta_ary = np.logspace(np.log10(5.5e-10), np.log10(7e-10), num=50)\n",
    "eta_fac_ary = eta_ary/eta0\n",
    "\n",
    "\n",
    "\n",
    "tau_n_fac_ary = np.linspace(\n",
    "    tau_n - 200*sigma_tau_n, \n",
    "    tau_n + 200*sigma_tau_n,\n",
    "    num=60\n",
    ") / tau_n\n",
    "\n",
    "m2LL = get_m2LL_v(eta_fac_ary, tau_n_fac_ary)\n"
   ]
  },
  {
   "cell_type": "markdown",
   "metadata": {},
   "source": [
    "Now make the plot! We plot 68% and 95% containment, taking $2 \\log \\mathcal{L} -2 \\log \\mathcal{L}_*$ to follow a $\\chi^2$ distribution with two degrees of freedom, where $\\mathcal{L}_*$ is the maximum likelihood point. We also show existing laboratory limits on $\\tau_n$, and the preferred region for $\\eta$ by Planck CMB anisotropy power spectrum measurements. \n",
    "\n",
    "Once again, for `key_PRIMAT_2023`, a discrepancy in the inferred value of the baryon abundance can be seen between BBN and CMB. We can also see that the sensitivity of BBN to $\\tau_n$ is much less than current laboratory experiments. "
   ]
  },
  {
   "cell_type": "code",
   "execution_count": 12,
   "metadata": {},
   "outputs": [
    {
     "data": {
      "text/plain": [
       "<matplotlib.legend.Legend at 0x29f590c50>"
      ]
     },
     "execution_count": 12,
     "metadata": {},
     "output_type": "execute_result"
    },
    {
     "data": {
      "image/png": "[encoded data removed]",
      "text/plain": [
       "<Figure size 443.077x360 with 1 Axes>"
      ]
     },
     "metadata": {
      "needs_background": "light"
     },
     "output_type": "display_data"
    }
   ],
   "source": [
    "plt.figure()\n",
    "\n",
    "plt.contourf(eta_ary, tau_n_fac_ary * tau_n, np.transpose(m2LL - np.min(m2LL)), levels=(0, 2.30, 5.99), cmap='Reds_r', alpha=0.6)\n",
    "\n",
    "\n",
    "plt.fill_between(x=eta_ary, y1=0., y2=0., color=cols_default[0], alpha=0.3, label=r'BBN')\n",
    "\n",
    "plt.fill_between(x=eta_ary, y1=tau_n - sigma_tau_n, y2=tau_n + sigma_tau_n, alpha=0.2, color=cols_default[2], label=r'Lab $\\tau_n$')\n",
    "plt.fill_between(x=eta_ary, y1=tau_n - 2*sigma_tau_n, y2=tau_n + 2*sigma_tau_n, alpha=0.2, color=cols_default[2])\n",
    "plt.fill_betweenx(y=[700, 1000], x1=eta0 - sigma_eta0, x2=eta0 + sigma_eta0,   alpha=0.2, color=cols_default[3], label=r'Planck')\n",
    "plt.fill_betweenx(y=[700, 1000], x1=eta0 - 2*sigma_eta0, x2=eta0 + 2*sigma_eta0,   alpha=0.2, color=cols_default[3])\n",
    "\n",
    "\n",
    "plt.xlim(5.75e-10, 6.3e-10)\n",
    "plt.ylim(820, 925)\n",
    "\n",
    "plt.xlabel(r'Baryon-to-Photon Ratio, $\\eta$')\n",
    "plt.ylabel(r'$\\tau_n$ [s]')\n",
    "\n",
    "plt.legend(loc='upper left')"
   ]
  },
  {
   "cell_type": "code",
   "execution_count": null,
   "metadata": {},
   "outputs": [],
   "source": []
  }
 ],
 "metadata": {
  "kernelspec": {
   "display_name": "Python 3 (ipykernel)",
   "language": "python",
   "name": "python3"
  },
  "language_info": {
   "codemirror_mode": {
    "name": "ipython",
    "version": 3
   },
   "file_extension": ".py",
   "mimetype": "text/x-python",
   "name": "python",
   "nbconvert_exporter": "python",
   "pygments_lexer": "ipython3",
   "version": "3.12.3"
  }
 },
 "nbformat": 4,
 "nbformat_minor": 4
}
