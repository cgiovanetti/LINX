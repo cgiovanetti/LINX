{
 "cells": [
  {
   "cell_type": "code",
   "execution_count": 38,
   "id": "8b155cd6-f2dc-4e5e-92b9-eeb5b5da2f3a",
   "metadata": {},
   "outputs": [
    {
     "name": "stdout",
     "output_type": "stream",
     "text": [
      "The autoreload extension is already loaded. To reload it, use:\n",
      "  %reload_ext autoreload\n"
     ]
    },
    {
     "name": "stderr",
     "output_type": "stream",
     "text": [
      "/var/folders/dz/9bww86957tj5p8v0rpbpr3n00000gn/T/ipykernel_61913/1649308610.py:23: DeprecationWarning: `set_matplotlib_formats` is deprecated since IPython 7.23, directly use `matplotlib_inline.backend_inline.set_matplotlib_formats()`\n",
      "  set_matplotlib_formats('retina')\n"
     ]
    }
   ],
   "source": [
    "%load_ext autoreload\n",
    "%autoreload\n",
    "import numpy as np\n",
    "import jax.numpy as jnp\n",
    "import jax\n",
    "from jax import jit, vmap\n",
    "import sys\n",
    "import pickle\n",
    "from tqdm import tqdm\n",
    "\n",
    "sys.path.append(\"../LINX/\")\n",
    "import linx.const as const \n",
    "from linx.nuclear import NuclearRates\n",
    "from linx.background import BackgroundModel\n",
    "from linx.abundances import AbundanceModel\n",
    "\n",
    "import matplotlib\n",
    "import matplotlib.pyplot as plt\n",
    "import matplotlib.pylab as pylab\n",
    "from matplotlib.lines import Line2D\n",
    "\n",
    "from IPython.display import set_matplotlib_formats\n",
    "set_matplotlib_formats('retina')\n",
    "\n",
    "from plot_params import params\n",
    "matplotlib.pylab.rcParams.update(params)"
   ]
  },
  {
   "cell_type": "code",
   "execution_count": 39,
   "id": "1d06c380-1ead-40c0-907e-7f1768eb0a67",
   "metadata": {},
   "outputs": [
    {
     "name": "stdout",
     "output_type": "stream",
     "text": [
      "`\\         /´  ||||        ||||  |||||     ||||  ||||   ||||\n",
      " /\\_______/\\   ||||        ||||  |||||||   ||||   |||| ||||\n",
      " ) __` ´__ (   ||||        ||||  |||| |||| ||||    |||||||\n",
      "/  `-|_|-´  \\  ||||        ||||  ||||  |||| |||    ||||||| \n",
      "/   (_x_)   \\  ||||||||||  ||||  ||||   |||||||   |||| ||||\n",
      "  )  `-´  (    ||||||||||  ||||  ||||    ||||||  ||||   ||||\n",
      " \n",
      "Compiling thermodynamics model...\n"
     ]
    },
    {
     "data": {
      "text/plain": [
       "Array(3.04436061, dtype=float64)"
      ]
     },
     "execution_count": 39,
     "metadata": {},
     "output_type": "execute_result"
    }
   ],
   "source": [
    "thermo_model_DNeff = BackgroundModel(decoupled = False, use_FD = True, collision_me=True, LO = True, NLO = True)\n",
    "t_vec_ref, a_vec_ref, rho_g_vec, rho_nu_vec, rho_NP_vec, P_NP_vec, Neff_vec = thermo_model_DNeff(0.)\n",
    "Neff_vec[-1]"
   ]
  },
  {
   "cell_type": "code",
   "execution_count": 40,
   "id": "d6e7cca0-5820-48d2-9bde-00f1c06ff99a",
   "metadata": {},
   "outputs": [
    {
     "data": {
      "text/plain": [
       "Array(3.04755534, dtype=float64)"
      ]
     },
     "execution_count": 40,
     "metadata": {},
     "output_type": "execute_result"
    }
   ],
   "source": [
    "thermo_model_DNeff = BackgroundModel(decoupled = False, use_FD = True, collision_me=False, LO = True, NLO = True)\n",
    "t_vec_ref, a_vec_ref, rho_g_vec, rho_nu_vec, rho_NP_vec, P_NP_vec, Neff_vec = thermo_model_DNeff(0.)\n",
    "Neff_vec[-1]"
   ]
  },
  {
   "cell_type": "code",
   "execution_count": 41,
   "id": "dff423bf-1657-4fd2-a61e-73ce2900d879",
   "metadata": {},
   "outputs": [
    {
     "data": {
      "text/plain": [
       "Array(3.05105815, dtype=float64)"
      ]
     },
     "execution_count": 41,
     "metadata": {},
     "output_type": "execute_result"
    }
   ],
   "source": [
    "thermo_model_DNeff = BackgroundModel(decoupled = False, use_FD = False, collision_me=False, LO = True, NLO = True)\n",
    "t_vec_ref, a_vec_ref, rho_g_vec, rho_nu_vec, rho_NP_vec, P_NP_vec, Neff_vec = thermo_model_DNeff(0.)\n",
    "Neff_vec[-1]"
   ]
  },
  {
   "cell_type": "code",
   "execution_count": 45,
   "id": "124a0991-85ab-4006-b319-cadf53f9fe4e",
   "metadata": {},
   "outputs": [
    {
     "data": {
      "text/plain": [
       "Array(3.0105685, dtype=float64)"
      ]
     },
     "execution_count": 45,
     "metadata": {},
     "output_type": "execute_result"
    }
   ],
   "source": [
    "thermo_model_DNeff = BackgroundModel(decoupled = True, use_FD = False, collision_me=False, LO = True, NLO = True)\n",
    "t_vec_ref, a_vec_ref, rho_g_vec, rho_nu_vec, rho_NP_vec, P_NP_vec, Neff_vec = thermo_model_DNeff(0.)\n",
    "Neff_vec[-1]"
   ]
  },
  {
   "cell_type": "code",
   "execution_count": 43,
   "id": "03501263-a91d-4aa8-9308-2d1d00a1b7de",
   "metadata": {},
   "outputs": [
    {
     "data": {
      "text/plain": [
       "Array(2.99999487, dtype=float64)"
      ]
     },
     "execution_count": 43,
     "metadata": {},
     "output_type": "execute_result"
    }
   ],
   "source": [
    "thermo_model_DNeff = BackgroundModel(decoupled = True, use_FD = False, collision_me=False, LO = False, NLO = False)\n",
    "t_vec_ref, a_vec_ref, rho_g_vec, rho_nu_vec, rho_NP_vec, P_NP_vec, Neff_vec = thermo_model_DNeff(0.)\n",
    "Neff_vec[-1]"
   ]
  },
  {
   "cell_type": "code",
   "execution_count": null,
   "id": "c4c697f9-7a0b-4f88-a9c5-bde0469da5da",
   "metadata": {},
   "outputs": [],
   "source": []
  },
  {
   "cell_type": "code",
   "execution_count": null,
   "id": "f417aab6-4f24-4e06-8389-603135f9f312",
   "metadata": {},
   "outputs": [],
   "source": []
  }
 ],
 "metadata": {
  "kernelspec": {
   "display_name": "Python 3 (ipykernel)",
   "language": "python",
   "name": "python3"
  },
  "language_info": {
   "codemirror_mode": {
    "name": "ipython",
    "version": 3
   },
   "file_extension": ".py",
   "mimetype": "text/x-python",
   "name": "python",
   "nbconvert_exporter": "python",
   "pygments_lexer": "ipython3",
   "version": "3.12.3"
  }
 },
 "nbformat": 4,
 "nbformat_minor": 5
}
