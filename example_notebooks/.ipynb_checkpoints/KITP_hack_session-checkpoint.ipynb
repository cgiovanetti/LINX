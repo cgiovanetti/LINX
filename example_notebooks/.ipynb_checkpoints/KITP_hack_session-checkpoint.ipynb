{
 "cells": [
  {
   "cell_type": "code",
   "execution_count": 85,
   "id": "e27ed503-c426-4b6b-92b5-e54a4588b54f",
   "metadata": {},
   "outputs": [
    {
     "name": "stdout",
     "output_type": "stream",
     "text": [
      "The autoreload extension is already loaded. To reload it, use:\n",
      "  %reload_ext autoreload\n"
     ]
    }
   ],
   "source": [
    "%load_ext autoreload\n",
    "%autoreload\n",
    "import numpy as np\n",
    "import jax.numpy as jnp\n",
    "import jax\n",
    "from jax import vmap, jit\n",
    "from functools import partial\n",
    "import sys\n",
    "import time\n",
    "\n",
    "sys.path.append(\"../LINX\")\n",
    "import thermo_model\n",
    "from thermo_funcs import N_eff\n",
    "import const\n",
    "from nuclear import NuclearRates\n",
    "from abundances import AbundanceModel\n",
    "\n",
    "import matplotlib\n",
    "import matplotlib.pyplot as plt\n",
    "from matplotlib.lines import Line2D"
   ]
  },
  {
   "cell_type": "markdown",
   "id": "00c3fab1-0a8d-460a-953f-ab17d2ceb9c7",
   "metadata": {
    "jp-MarkdownHeadingCollapsed": true
   },
   "source": [
    "# Part 1: Computing thermodynamics with LINX"
   ]
  },
  {
   "cell_type": "markdown",
   "id": "c02c1ff2-443d-4fd8-84c2-7f147bbdaf46",
   "metadata": {},
   "source": [
    "First, we need to define our thermodynamics model and (optional) our abundance model.  These are defined in the `thermo_model`, `nuclear`, and `abundances` modules of LINX."
   ]
  },
  {
   "cell_type": "code",
   "execution_count": 39,
   "id": "92570cff-9e68-47ec-8853-209f78696ec7",
   "metadata": {},
   "outputs": [],
   "source": [
    "# define a thermodynamics model:\n",
    "get_thermodynamics_Neff = thermo_model.ThermoModel()\n",
    "\n",
    "# comment or uncomment to toggle which reaction network to use\n",
    "# network = 'key_PRIMAT_2022'\n",
    "# network = 'key_PRIMAT_2018'\n",
    "network = 'key_PArth'\n",
    "# network = 'key_NACREII'\n",
    "\n",
    "# define an abundance model using the network of your choice\n",
    "GetAbundances = AbundanceModel(NuclearRates(nuclear_net=network))"
   ]
  },
  {
   "cell_type": "markdown",
   "id": "51ef161a-a8da-4739-8894-16f4bada2152",
   "metadata": {},
   "source": [
    "Let's ask LINX to compute the energy densities of the Standard Model fluids for us, as well as the time, scale factor, and $N_{\\rm{eff}}$:"
   ]
  },
  {
   "cell_type": "code",
   "execution_count": 40,
   "id": "593abdfb-9f2e-4a01-9e6a-68bc9441f361",
   "metadata": {},
   "outputs": [
    {
     "name": "stdout",
     "output_type": "stream",
     "text": [
      "`\\         /´  ||||        ||||  |||||     ||||  ||||   ||||\n",
      " /\\_______/\\   ||||        ||||  |||||||   ||||   |||| ||||\n",
      " ) __` ´__ (   ||||        ||||  |||| |||| ||||    |||||||\n",
      "/  `-|_|-´  \\  ||||        ||||  ||||  |||| |||    ||||||| \n",
      "/   (_x_)   \\  ||||||||||  ||||  ||||   |||||||   |||| ||||\n",
      "  )  `-´  (    ||||||||||  ||||  ||||    ||||||  ||||   ||||\n",
      " \n",
      "Compiling thermodynamics model...\n"
     ]
    }
   ],
   "source": [
    "t_vec, a_vec, rho_g_vec, rho_nu_vec, rho_extra_vec, P_extra_vec, Neff_vec = get_thermodynamics_Neff(0.)\n",
    "\n",
    "# this cell will output some text to let you know the code is compiling when you run it the first time."
   ]
  },
  {
   "cell_type": "code",
   "execution_count": 41,
   "id": "949ae1c6-8539-4fb2-b17d-f50850c2c026",
   "metadata": {},
   "outputs": [
    {
     "data": {
      "image/png": "[encoded data removed]",
      "text/plain": [
       "<Figure size 600x400 with 1 Axes>"
      ]
     },
     "metadata": {},
     "output_type": "display_data"
    }
   ],
   "source": [
    "# we can observe the usual behavior for the energy densities of neutrinos and photons\n",
    "\n",
    "fig = plt.figure(figsize=(6,4))\n",
    "plt.plot(t_vec,rho_nu_vec/rho_g_vec)\n",
    "ax = plt.gca()\n",
    "ax.set_xscale('log')\n",
    "plt.xlabel(\"Time (s)\")\n",
    "plt.ylabel(r\"$\\frac{\\rho_{\\nu}}{\\rho_{\\gamma}}$\")\n",
    "plt.show()"
   ]
  },
  {
   "cell_type": "markdown",
   "id": "279ef698-2c63-4d49-99ed-26952edb0819",
   "metadata": {},
   "source": [
    "The input to `get_thermodynamics_Neff()` is not $\\Delta N_{\\rm{eff}}$ (though an input of 0 guarantees $\\Delta N_{\\rm{eff}}=0$).  The the actual change to $N_{\\rm{eff}}$ is computed by introducing an energy density for additional inert species, with a coefficient given by the input to the function.  A larger coefficient will still result in a larger change to $N_{\\rm{eff}}$.  Input can be positive or negative.\n",
    "\n",
    "A change in $N_{\\rm{eff}}$ is the only new physics we've incorporated into LINX so far.  We have plans to allow the user to add arbitrary new species with arbitrary couplings when calling the code soon--our goal is to make exploration of these new physics scenarios easy, out of the box, regardless of the scenario of interest."
   ]
  },
  {
   "cell_type": "markdown",
   "id": "03e0b2a2-1899-430d-9f61-fe51c0fbb7f7",
   "metadata": {
    "jp-MarkdownHeadingCollapsed": true
   },
   "source": [
    "### Exercise 1:\n",
    "\n",
    "Play around with the input to `get_thermodynamics_Neff`.  What input do you need to get a final $N_{\\rm{eff}}$ (`Neff_vec[-1]`) of $\\approx 2$?"
   ]
  },
  {
   "cell_type": "code",
   "execution_count": null,
   "id": "e6ab3e06-3ff1-465a-b342-fd147ebd55c1",
   "metadata": {},
   "outputs": [],
   "source": []
  },
  {
   "cell_type": "code",
   "execution_count": null,
   "id": "d3160ab0-c2e3-49c4-aba2-f61beb616d6d",
   "metadata": {},
   "outputs": [],
   "source": []
  },
  {
   "cell_type": "markdown",
   "id": "ca38b685-e696-4f46-8b4a-72d9f1d9da14",
   "metadata": {},
   "source": [
    "Once you've computed the thermodynamics for the scenario where $N_{\\rm{eff}}\\approx 2$, you will have a nonzero energy density of the \"extra\" species, computed by `get_thermodynamics_Neff()`.  We can confirm that the species is inert by looking for $a^{-4}$ scaling:"
   ]
  },
  {
   "cell_type": "code",
   "execution_count": null,
   "id": "53bca292-dff2-4d89-8471-2ef3a940e39d",
   "metadata": {},
   "outputs": [],
   "source": [
    "fig = plt.figure(figsize=(6,4))\n",
    "plt.loglog(t_vec,rho_g_vec*a_vec**4,label=r\"$\\rho_{\\gamma}$\")\n",
    "plt.loglog(t_vec,rho_nu_vec*a_vec**4,label=r\"$\\rho_{\\nu}$\")\n",
    "plt.loglog(t_vec,rho_extra_vec*a_vec**4,label=r\"$\\rho_{\\rm{extra}}$\")\n",
    "plt.xlabel(\"Time (s)\")\n",
    "plt.ylabel(r\"Energy density$\\times a^4$ (MeV$^4$)\")\n",
    "plt.legend()\n",
    "plt.show()\n",
    "\n",
    "# neutrino line should not be totally straight because of non-instantaneous neutrino \n",
    "# decoupling.  Meanwhile the inert species should be a perfectly flat line:\n",
    "print(\"rho_nu_vec diff: \",rho_nu_vec[0]*a_vec[0]**4 - rho_nu_vec[-1]*a_vec[-1]**4)\n",
    "print(\"rho_extra_vec diff: \",rho_extra_vec[0]*a_vec[0]**4 - rho_extra_vec[-1]*a_vec[-1]**4)"
   ]
  },
  {
   "cell_type": "markdown",
   "id": "e6ae86e6-c5e2-4732-9034-b474802b999e",
   "metadata": {},
   "source": [
    "Finally, if you defined an `AbundanceModel`, we can peek at the abundances of light elements in this thermodynamcal scenario:"
   ]
  },
  {
   "cell_type": "code",
   "execution_count": null,
   "id": "d927086c-cca3-4bab-b07f-d8a774695e2e",
   "metadata": {},
   "outputs": [],
   "source": [
    "Yn, Yp, Yd, Yt, YHe3, Ya, YLi7, YBe7 = GetAbundances(\n",
    "            jnp.array(rho_g_vec),\n",
    "            jnp.array(rho_nu_vec), \n",
    "            jnp.array(rho_extra_vec),\n",
    "            jnp.array(rho_extra_vec)/3,\n",
    "            t_vec=jnp.array(t_vec),\n",
    "            a_vec=jnp.array(a_vec)\n",
    "            )\n",
    "\n",
    "print(\"N_eff is \",np.round(Neff_vec[-1],3))\n",
    "print(\"Delta N_eff is \",np.round(Neff_vec[-1],3)-3.045)\n",
    "print(\"D/H is \",np.round(Yd/Yp*1e5,2))\n",
    "print(\"Yp is \",np.round(4*Ya,3))"
   ]
  },
  {
   "cell_type": "markdown",
   "id": "bf3742d2-6ee5-497f-8767-8035e6714108",
   "metadata": {
    "jp-MarkdownHeadingCollapsed": true
   },
   "source": [
    "# Part 2: Schramm plot of abundances"
   ]
  },
  {
   "cell_type": "markdown",
   "id": "92bd0c22-55f7-46f8-ac1e-81290d00d02c",
   "metadata": {},
   "source": [
    "With the thermodynamics computed, we now want to determine the abundance of the light elements. We first have to choose a nuclear network to use for our prediction. Here, we will use the small network of 12 reactions provided by PRIMAT in 2023. \n",
    "\n",
    "The abundance calculation is contained within the class `abundances.AbundanceModel`. In the simplest use case, we can instantiate the class with a choice of network. "
   ]
  },
  {
   "cell_type": "code",
   "execution_count": 45,
   "id": "24bf139b-0e1a-48c6-bb84-c6d785ca5b19",
   "metadata": {},
   "outputs": [],
   "source": [
    "network = 'key_PRIMAT_2022'\n",
    "\n",
    "GetAbundances = AbundanceModel(NuclearRates(nuclear_net=network))"
   ]
  },
  {
   "cell_type": "markdown",
   "id": "321991e0-1f40-49af-9676-d325bcf4005e",
   "metadata": {},
   "source": [
    "Let's first generate a Schramm plot, with no rate uncertainties included, i.e. we will use the mean nuclear rates provided by the network choice above. We will then perform the BBN calculation over `num_pts` different values of $\\Omega_b h^2$, which is stored in `omega_b`."
   ]
  },
  {
   "cell_type": "code",
   "execution_count": 44,
   "id": "e6fd389a-3aeb-4e04-9f50-43376c4aaa40",
   "metadata": {},
   "outputs": [],
   "source": [
    "num_pts = 200\n",
    "omega_b = np.logspace(np.log10(3e-3),np.log10(4e-2),num=num_pts)"
   ]
  },
  {
   "cell_type": "markdown",
   "id": "5e10f5c4-7ee2-4844-b661-63a7f8255683",
   "metadata": {
    "jp-MarkdownHeadingCollapsed": true
   },
   "source": [
    "### Exercise 2:\n",
    "\n",
    "First, for clarity, get the abundances at the Planck central value for $\\Omega_b h^2$ by calling `abundance_model`, and specifying `eta_fac = 1`. `eta_fac` here is the ratio of our choice of $\\eta$ or equivalently $\\Omega_b h^2$ to the Planck central value. \n",
    "\n",
    "Once again, the function is compiled on its first run. Subsequent runs will be much faster, as long as the inputs are of the same shape and type."
   ]
  },
  {
   "cell_type": "code",
   "execution_count": null,
   "id": "bb7f64ca-8d77-4fe3-8cf2-ce269be586b6",
   "metadata": {},
   "outputs": [],
   "source": [
    "Planck_omega_b_res = GetAbundances() # your input here.  Use the syntax from the previous section, and specify \n",
    "                                    # an additional argument, eta_fac = 1.\n",
    "\n",
    "print('The abundances (n_i/n_b) are: ')\n",
    "print('n:   ', Planck_omega_b_res[0])\n",
    "print('p:   ', Planck_omega_b_res[1])\n",
    "print('d:   ', Planck_omega_b_res[2])\n",
    "print('t:   ', Planck_omega_b_res[3])\n",
    "print('He3: ', Planck_omega_b_res[4])\n",
    "print('He4: ', Planck_omega_b_res[5])"
   ]
  },
  {
   "cell_type": "markdown",
   "id": "7d9ddc9b-8060-4f89-ab63-6e9fd095aa5e",
   "metadata": {},
   "source": [
    "The output is an array of floats, representing the abundances (n_i/n_b) of 0:n, 1:p, 2:d, 3:t, 4:He3, 5:He4 (frequently denoted a), 6:Li7, 7:Be7, 8: He6, 9: Li6, 10: Li8, 11:B8. The size of the output depends on the choice of network."
   ]
  },
  {
   "cell_type": "markdown",
   "id": "b43507fe-9a41-4f38-801d-cfa2af16be2e",
   "metadata": {
    "jp-MarkdownHeadingCollapsed": true
   },
   "source": [
    "### Exercise 3:\n",
    "\n",
    "To scan over `omega_b`, we use JAX to construct a vectorized function call to `abundance_model`, which can then be compiled, and runs significantly faster than a `for` loop. We first define a wrapper function `get_abundance_eta`, which calls the abundance model for a value of `eta_fac`.\n",
    "\n",
    "Then, we'll use `vmap` to construct new function that is vectorized.  This will take a vector `eta_fac_vec` of `eta_fac` values and output a 2D array of abundances, of size (`eta_fac_vec`, number of light elements). "
   ]
  },
  {
   "cell_type": "code",
   "execution_count": 46,
   "id": "ed0bdd9d-8955-4ebe-8d99-a4c4cfb8015b",
   "metadata": {},
   "outputs": [],
   "source": [
    "def get_abundance_eta(eta_fac):\n",
    "    # your function definition here\n",
    "    return  \n",
    "\n",
    "get_abundance_v = vmap(get_abundance_eta, in_axes=0)"
   ]
  },
  {
   "cell_type": "markdown",
   "id": "887fdd42-decd-49e2-b182-12f4a0aa09ec",
   "metadata": {},
   "source": [
    "We are now ready to run the vectorized code (which will perform `num_pts` BBN evaluations). First the code is compiled, and then executed. We then rearrange the results into a series of arrays for each of the light elements. "
   ]
  },
  {
   "cell_type": "code",
   "execution_count": null,
   "id": "a2cf0d39-d51f-4811-be49-a209fce6da53",
   "metadata": {},
   "outputs": [],
   "source": [
    "results = get_abundance_v(omega_b/const.Omegabh2) # we pull the default value of Omegabh2 from the module const\n",
    "\n",
    "Yn_arr, Yp_arr, Yd_arr, Yt_arr, YHe3_arr, Ya_arr, YLi7_arr, YBe7_arr = (\n",
    "    results.transpose()\n",
    ")"
   ]
  },
  {
   "cell_type": "markdown",
   "id": "012983bc-d9f1-4986-83e4-d0119fafcf57",
   "metadata": {},
   "source": [
    "Now we make the Schramm plot (if everything went well above, you can just execute the cell below). We use constraints on $Y_\\mathrm{p}$ from Aver+ 2015 (arXiv:1503.08146), $\\mathrm{D/H}$ from Cooke+ 2018 (arXiv:1710.11129) and on $^7\\mathrm{Li/H}$ from the PDG. This plot can be compared to the same one found in the PDG review of BBN, Figure 23.1. "
   ]
  },
  {
   "cell_type": "code",
   "execution_count": null,
   "id": "0ec8becf-19cc-4d0e-88ed-4a86ee6f936a",
   "metadata": {},
   "outputs": [],
   "source": [
    "# Conversion between omega_b and eta.\n",
    "eta = omega_b * const.Omegabh2_to_eta0\n",
    "\n",
    "# Planck central values. \n",
    "omb = const.Omegabh2\n",
    "sigma_omb = const.sigma_Omegabh2\n",
    "\n",
    "eta0 = omb * const.Omegabh2_to_eta0\n",
    "sigma_eta0 = sigma_omb / omb * eta0\n",
    "\n",
    "# Aver 2015 Yp:\n",
    "YHe_BBN = 0.2449 \n",
    "YHe_BBN_sigma = 0.004\n",
    "\n",
    "# Cooke 2018 D/H:\n",
    "DH_BBN = 2.527*1e-5\n",
    "DH_BBN_sigma = 0.030 *1e-5\n",
    "\n",
    "# PDG 2021 Li7/H:\n",
    "Li7_BBN = 1.6e-10\n",
    "Li7_BBN_sigma = 0.3e-10\n",
    "\n",
    "###############################\n",
    "###############################\n",
    "###############################\n",
    "\n",
    "fig = plt.figure(figsize=(10, 8)) \n",
    "plt.plot(eta, 4*Ya_arr)\n",
    "ax = plt.gca()\n",
    "ax.axvspan(\n",
    "    eta0 - sigma_eta0, eta0 + sigma_eta0, alpha=0.5, color=cols_default[4]\n",
    ")\n",
    "idx_low = np.argmin(np.abs(4*Ya_arr - (YHe_BBN-YHe_BBN_sigma)))\n",
    "idx_high = np.argmin(np.abs(4*Ya_arr - (YHe_BBN+YHe_BBN_sigma)))\n",
    "ax.fill_between(\n",
    "    np.array([eta[idx_low],eta[idx_high]]).flatten(),\n",
    "    YHe_BBN-YHe_BBN_sigma,YHe_BBN+YHe_BBN_sigma,\n",
    "    color=cols_default[2], alpha = 0.5\n",
    ")\n",
    "\n",
    "ax.set_xscale('log')\n",
    "ax.set_xlim(1e-10, 1e-9)\n",
    "plt.xlabel('$\\eta$')\n",
    "plt.ylabel(r'Y$_{\\rm p}$')\n",
    "plt.show()\n",
    "\n",
    "###############################\n",
    "###############################\n",
    "###############################\n",
    "\n",
    "fig = plt.figure(figsize=(10, 8)) \n",
    "plt.loglog(eta, Yd_arr/Yp_arr,label='D/H',zorder=1)\n",
    "plt.loglog(eta, YHe3_arr/Yp_arr,label='He3/H')\n",
    "ax = plt.gca()\n",
    "ax.axvspan(\n",
    "    eta0 - sigma_eta0, eta0 + sigma_eta0, alpha=0.5, color=cols_default[4]\n",
    ")\n",
    "idx_low = np.argmin(np.abs(Yd_arr/Yp_arr - (DH_BBN-DH_BBN_sigma)))\n",
    "idx_high = np.argmin(np.abs(Yd_arr/Yp_arr- (DH_BBN+DH_BBN_sigma)))\n",
    "ax.fill_between(np.array([eta[idx_low],eta[idx_high]]).flatten(),DH_BBN-DH_BBN_sigma,DH_BBN+DH_BBN_sigma,color=cols_default[2],alpha = 0.5,zorder=2)\n",
    "\n",
    "print(idx_low, idx_high)\n",
    "\n",
    "ax.set_xlim(5e-10, 1e-9)\n",
    "ax.set_ylim(6e-6, 4e-5)\n",
    "plt.xlabel('$\\eta$')\n",
    "plt.ylabel('$^3$He/H \\hspace{4.5 cm}  D/H')\n",
    "plt.show()\n",
    "\n",
    "###############################\n",
    "###############################\n",
    "###############################\n",
    "\n",
    "fig = plt.figure(figsize=(10, 8)) \n",
    "plt.loglog(eta, YLi7_arr/Yp_arr+YBe7_arr/Yp_arr) # Be7 decays to Li7\n",
    "ax = plt.gca()\n",
    "ax.axvspan(\n",
    "    eta0 - sigma_eta0, eta0 + sigma_eta0, alpha=0.5, color=cols_default[4]\n",
    ")\n",
    "idx_low = np.argwhere(np.diff(np.sign(YLi7_arr/Yp_arr+YBe7_arr/Yp_arr - (Li7_BBN-Li7_BBN_sigma)))).flatten()\n",
    "idx_high = np.argwhere(np.diff(np.sign(YLi7_arr/Yp_arr+YBe7_arr/Yp_arr - (Li7_BBN+Li7_BBN_sigma)))).flatten()\n",
    "# adjust for two intersections\n",
    "ax.fill_between(np.array([eta[idx_high[0]],eta[idx_high[-1]]]).flatten(),Li7_BBN-Li7_BBN_sigma,Li7_BBN+Li7_BBN_sigma,color=cols_default[2],alpha = 0.5,zorder=0)\n",
    "\n",
    "ax.set_xlim(1e-10, 1e-9)\n",
    "plt.xlabel('$\\eta$')\n",
    "plt.ylabel('$^7$Li/H')"
   ]
  },
  {
   "cell_type": "markdown",
   "id": "e8a9362c-d1c0-4362-86ca-086860c4e9f1",
   "metadata": {
    "jp-MarkdownHeadingCollapsed": true
   },
   "source": [
    "### Example: Schramm plot with uncertainties\n",
    "\n",
    "Let's add the uncertainties to our Schramm plot.\n",
    "\n",
    "The memory requirements to `vmap` over all of our inputs the way we'll do in Part 3 are a little too steep to run on a personal machine (we're working on that!).  So instead, we'll need to use a for loop.  But we can do better than python's slow for loops--we can instead use `jax.lax.scan` to automatically parallelize over our loops."
   ]
  },
  {
   "cell_type": "code",
   "execution_count": 61,
   "id": "78bb910d-7a87-4ddf-96eb-f6a6d0bdc25c",
   "metadata": {},
   "outputs": [],
   "source": [
    "@jit\n",
    "def get_abundances(eta_fac, tau_n_fac, nuclear_rates_p):\n",
    "    Yn, Yp, Yd, Yt, YHe3, Ya, YLi7, YBe7 = GetAbundances(\n",
    "        jnp.array(rho_g_vec),\n",
    "        jnp.array(rho_nu_vec),\n",
    "        jnp.zeros_like(rho_g_vec),\n",
    "        jnp.zeros_like(rho_g_vec),\n",
    "        t_vec=jnp.array(t_vec),\n",
    "        a_vec=jnp.array(a_vec),\n",
    "        eta_fac=jnp.asarray(eta_fac),\n",
    "        tau_n_fac=jnp.asarray(tau_n_fac),\n",
    "        nuclear_rates_p=nuclear_rates_p\n",
    "    )\n",
    "    return Yn, Yp, Yd, YHe3, Ya, YLi7, YBe7"
   ]
  },
  {
   "cell_type": "code",
   "execution_count": 62,
   "id": "98162ab3-a584-4601-aa2f-eba57dc5c1ac",
   "metadata": {},
   "outputs": [],
   "source": [
    "def eta_fac_fun(omega_b):\n",
    "    omb_to_eta = const.Omegabh2_to_eta0 # eta = omb_to_eta * Omega_b h^2\n",
    "    eta = omega_b*omb_to_eta # desired eta input\n",
    "    return eta/(const.Omegabh2*omb_to_eta) # eta = eta_fac * eta0\n",
    "eta_fac_fun_vec = np.vectorize(eta_fac_fun)"
   ]
  },
  {
   "cell_type": "code",
   "execution_count": 63,
   "id": "a723024e-a321-48c3-9766-1a27f3496f1d",
   "metadata": {},
   "outputs": [],
   "source": [
    "num_runs_per_point = 100\n",
    "num_pts = 100\n",
    "omega_b = np.logspace(np.log10(3e-3),np.log10(4e-2),num=num_pts)"
   ]
  },
  {
   "cell_type": "code",
   "execution_count": null,
   "id": "5c2de783-624d-4697-ad1c-82623414feef",
   "metadata": {},
   "outputs": [],
   "source": [
    "key = jax.random.PRNGKey(0)\n",
    "def inner_scan_body(carry, i):\n",
    "    key, eta_fac = carry\n",
    "    tau_n_fac = 1 + jax.random.normal(key) * 0.000682  # Gaussian prior on tau_n_fac\n",
    "\n",
    "    key, subkey = jax.random.split(key)\n",
    "    nuclear_rates_p = dict(zip(const.reactions, jax.random.normal(subkey, (const.num_reactions,))))\n",
    "\n",
    "    Yn, Yp, Yd, YHe3, Ya, YLi7, YBe7 = get_abundances(eta_fac, tau_n_fac, nuclear_rates_p)\n",
    "\n",
    "    return (key, eta_fac), (Ya, Yp, Yd, YHe3, YLi7, YBe7)\n",
    "\n",
    "# Define the outer scan body function\n",
    "def outer_scan_body(carry, omega_b_val):\n",
    "    key = carry\n",
    "    eta_fac = eta_fac_fun(omega_b_val)\n",
    "    carry_inner = (key, eta_fac)\n",
    "    carry_inner, results = jax.lax.scan(inner_scan_body, carry_inner, jnp.arange(num_runs_per_point))\n",
    "    key = carry_inner[0]\n",
    "\n",
    "    return key, results"
   ]
  },
  {
   "cell_type": "code",
   "execution_count": 78,
   "id": "3e6272d7-09f7-486c-95a9-6caa43f4b35f",
   "metadata": {},
   "outputs": [
    {
     "name": "stdout",
     "output_type": "stream",
     "text": [
      "255.57359266281128\n"
     ]
    }
   ],
   "source": [
    "# Use lax.scan to process num_pts iterations\n",
    "\n",
    "# Running this on my personal machine takes 4-5 minutes.  This as opposed to 7-8 minutes\n",
    "# using a traditional python for loop.\n",
    "start_time = time.time()\n",
    "key, results_all = jax.lax.scan(outer_scan_body, key, omega_b)\n",
    "print(time.time()-start_time)"
   ]
  },
  {
   "cell_type": "code",
   "execution_count": 79,
   "id": "548f2ad2-823b-4b33-883a-ee665f756acd",
   "metadata": {},
   "outputs": [],
   "source": [
    "results_all = jnp.array(results_all)\n",
    "\n",
    "# Unpack results\n",
    "Ya_arr = results_all[0, :, :]\n",
    "Yp_arr = results_all[1, :, :]\n",
    "Yd_arr = results_all[2, :, :]\n",
    "YHe3_arr = results_all[3, :, :]\n",
    "YLi7_arr = results_all[4, :, :]\n",
    "YBe7_arr = results_all[5, :, :]"
   ]
  },
  {
   "cell_type": "code",
   "execution_count": 80,
   "id": "fbf019d8-40b3-438b-b61d-eb82aba8fee6",
   "metadata": {},
   "outputs": [],
   "source": [
    "Yp_plot = np.mean(4*np.array(Ya_arr),1)\n",
    "DH_plot = np.mean(Yd_arr/Yp_arr,1)\n",
    "He3H_plot = np.mean(YHe3_arr/Yp_arr,1)\n",
    "Li7H_plot = np.mean(YLi7_arr/Yp_arr + YBe7_arr/Yp_arr,1)\n",
    "\n",
    "Yp_plot_sigma = np.std(4*np.array(Ya_arr),1)\n",
    "DH_plot_sigma = np.std(Yd_arr/Yp_arr,1)\n",
    "He3H_plot_sigma = np.std(YHe3_arr/Yp_arr,1)\n",
    "Li7H_plot_sigma = np.std(YLi7_arr/Yp_arr + YBe7_arr/Yp_arr,1)"
   ]
  },
  {
   "cell_type": "code",
   "execution_count": 84,
   "id": "9559051a-bec8-4958-97a4-874fe7ec2ce4",
   "metadata": {},
   "outputs": [
    {
     "data": {
      "image/png": "[encoded data removed]",
      "text/plain": [
       "<Figure size 700x1000 with 3 Axes>"
      ]
     },
     "metadata": {},
     "output_type": "display_data"
    }
   ],
   "source": [
    "# generate the plot with uncertainties\n",
    "fig, axs = plt.subplots(3, 1, sharex=True, figsize=(7, 10))\n",
    "\n",
    "# Planck LCDM omega_b:\n",
    "omb = 2.236*1e-2\n",
    "sigma_omb = 0.015*1e-2\n",
    "\n",
    "# Aver 2015 Yp:\n",
    "YHe_BBN = 0.2449 \n",
    "YHe_BBN_sigma = 0.004\n",
    "\n",
    "# Cooke 2018 D/H:\n",
    "DH_BBN = 2.527*1e-5\n",
    "DH_BBN_sigma = 0.030 *1e-5\n",
    "\n",
    "# Cooke 2018 D/H:\n",
    "DH_BBN = 2.527*1e-5\n",
    "DH_BBN_sigma = 0.030 *1e-5\n",
    "\n",
    "# PDG 2021 Li7*:\n",
    "Li7_BBN = 1.6e-10\n",
    "Li7_BBN_sigma = 0.3e-10\n",
    "\n",
    "###############################\n",
    "###############################\n",
    "###############################\n",
    "\n",
    "axs[0].plot(omega_b,Yp_plot,lw=0.5,color='k')\n",
    "axs[0].fill_between(omega_b,Yp_plot-Yp_plot_sigma,Yp_plot+Yp_plot_sigma,color='blue',alpha = 0.3)\n",
    "\n",
    "axs[0].axvspan(omb - sigma_omb, omb + sigma_omb, alpha=0.5, color='red')\n",
    "# find the low value of omega_b with the \"high\" curve and \"low\" measured value\n",
    "# find the high value of omega_b with the \"low\" curve and \"high\" measured value\n",
    "idx_low = np.argmin(np.abs(Yp_plot+Yp_plot_sigma - (YHe_BBN-YHe_BBN_sigma)))\n",
    "idx_high = np.argmin(np.abs(Yp_plot-Yp_plot_sigma - (YHe_BBN+YHe_BBN_sigma)))\n",
    "axs[0].fill_between(np.array([omega_b[idx_low],omega_b[idx_high] ]).flatten(),YHe_BBN-YHe_BBN_sigma,YHe_BBN+YHe_BBN_sigma,color='g',alpha = 0.5)\n",
    "\n",
    "axs[0].set_xscale('log')\n",
    "axs[0].set_ylabel(r'Y$_{\\rm P}$')\n",
    "\n",
    "###############################\n",
    "###############################\n",
    "###############################\n",
    "# light smoothing\n",
    "\n",
    "axs[1].loglog(omega_b,DH_plot,label='D/H',lw=0.5,color='k')\n",
    "axs[1].loglog(omega_b[::4],He3H_plot[::4],label='He3/H',lw=0.5,color='k')\n",
    "axs[1].fill_between(omega_b,DH_plot-DH_plot_sigma,DH_plot+DH_plot_sigma,color='orange',alpha = 0.5)\n",
    "axs[1].fill_between(omega_b[::4],He3H_plot[::4]-He3H_plot_sigma[::4],He3H_plot[::4]+He3H_plot_sigma[::4],color='purple',alpha = 0.5)\n",
    "\n",
    "axs[1].axvspan(omb - sigma_omb, omb + sigma_omb, alpha=0.5, color='red')\n",
    "# deuterium box is too small for the resolution we're working with, just have this line stretch\n",
    "idx_low = np.argmin(np.abs(DH_plot+DH_plot_sigma - (DH_BBN-DH_BBN_sigma)))\n",
    "idx_high = np.argmin(np.abs(DH_plot-DH_plot_sigma - (DH_BBN+DH_BBN_sigma)))\n",
    "axs[1].fill_between(np.array([omega_b[idx_low],omega_b[idx_high]]).flatten(),DH_BBN-DH_BBN_sigma,DH_BBN+DH_BBN_sigma,color='g',alpha = 0.5,zorder=2)\n",
    "\n",
    "axs[1].set_ylabel(r'$^3$He/H                  D/H')\n",
    "\n",
    "###############################\n",
    "###############################\n",
    "###############################\n",
    "\n",
    "# light smoothing \n",
    "axs[2].loglog(omega_b[::4],Li7H_plot[::4],lw=0.5,color='k')\n",
    "axs[2].fill_between(omega_b[::4],Li7H_plot[::4]-Li7H_plot_sigma[::4],Li7H_plot[::4]+Li7H_plot_sigma[::4],color='gray',alpha = 0.5)\n",
    "\n",
    "axs[2].axvspan(omb - sigma_omb, omb + sigma_omb, alpha=0.5, color='red')\n",
    "# adjust for two intersections\n",
    "# use \"low\" curve for each, \"high\" measurement for each to get max omega_b range\n",
    "idx_high = np.argwhere(np.diff(np.sign(Li7H_plot-Li7H_plot_sigma - (Li7_BBN+Li7_BBN_sigma)))).flatten()\n",
    "# need to add one to indices because of diff\n",
    "axs[2].fill_between(np.array([omega_b[idx_high[0]+1],omega_b[idx_high[-1]+1]]).flatten(),Li7_BBN-Li7_BBN_sigma,Li7_BBN+Li7_BBN_sigma,color='g',alpha = 0.5,zorder=0)\n",
    "\n",
    "axs[2].set_xlabel(r'$\\Omega_bh^2$')\n",
    "axs[2].set_ylabel(r'$^7$Li/H')\n",
    "plt.subplots_adjust(hspace=0.00) \n",
    "\n",
    "# plt.savefig('Schramm.png',dpi=300,bbox_inches='tight')"
   ]
  },
  {
   "cell_type": "markdown",
   "id": "5c2231b2-1e92-4e17-85dc-22860fcedcf2",
   "metadata": {},
   "source": [
    "# Part 3: Parameter inference"
   ]
  },
  {
   "cell_type": "markdown",
   "id": "189e75ea-c862-4b7a-a3fc-57ccbee82d3c",
   "metadata": {},
   "source": [
    "LINX shines when it comes time to infer cosmological and parameters.  Let's say you were interested in inferring the baryon density $\\Omega_b h^2$ with LINX.\n",
    "\n",
    "First, make sure we have the thermodynamics for standard cosmology and an `AbundanceModel` defined:"
   ]
  },
  {
   "cell_type": "code",
   "execution_count": 48,
   "id": "cfa34d4e-36e2-4c21-ade9-3b428dc0951d",
   "metadata": {},
   "outputs": [],
   "source": [
    "t_vec, a_vec, rho_g_vec, rho_nu_vec, rho_extra_vec, P_extra_vec, Neff_vec = get_thermodynamics_Neff(0.)\n",
    "\n",
    "# here, let's use NACREII, for more dramatic results\n",
    "network = 'key_NACREII'\n",
    "\n",
    "# define an abundance model using the network of your choice\n",
    "GetAbundances = AbundanceModel(NuclearRates(nuclear_net=network))"
   ]
  },
  {
   "cell_type": "markdown",
   "id": "5edba48e-4eeb-4b15-9476-93461a46da79",
   "metadata": {},
   "source": [
    "We need to define a log likelihood we can use for inference.  Below, we'll define a function that computes that log likelihood for a given set of input parameters.\n",
    "\n",
    "We're using the 12 most important reactions for computing the abundances of deuterium and helium-4, and so we need an input parameter that defines the scaling of each of those reactions.  Convention compels us to define some parameter $q$ for each reaction, which is drawn from $\\mathcal{N}(0,1)$.  Then, for a given rate $r(T)$ with tabulated uncertainty $\\sigma(T)$, the rescaled rate is given by $r'(T) = r(T) \\sigma(T)^q$.\n",
    "\n",
    "This is because precomputed rates for BBN codes are typically given so that the \\textit{log} of the rate is gaussian distributed.  If we take a log of the above, we get something a little more intiutive: $\\log(r'(T)) = \\log(r(T)) + q\\log(\\sigma(T))$.\n",
    "\n",
    "**In conclusion**\n",
    "\n",
    "As the user, you don't need to worry about any of these conversions or conventions.  An input $q=1$ for a given reaction in the network will scale that reaction rate up by $1\\sigma$.\n",
    "\n",
    "The upshot of this is that we need to define 12 of these $q_i$, as well as a factor for the neutron lifetime, as our nuisance parameters.  Finally, we include an input for `eta_fac` so that we can vary that as well as our model parameter."
   ]
  },
  {
   "cell_type": "code",
   "execution_count": 27,
   "id": "bfe5936a-62f4-4fcb-839f-af6c2c0d69ee",
   "metadata": {},
   "outputs": [],
   "source": [
    "# define and jit a log likelihood\n",
    "@partial(jax.jit, static_argnames=['return_abundances'])\n",
    "def get_m2LL(params, return_abundances=False):\n",
    "    \"\"\"\n",
    "    params should be vector of length 14, with params[0] = eta_fac (mean = 1, broad uniform prior(e.g. 0.1 - 10)), \n",
    "    params[1] = tau_n_fac ~ N(mean = 1, sigma = const.sigma_tau_n / const.tau_n) \n",
    "    params[2:] = p_nuclear_process ~ N(0,1) corresponding to npdg, dpHe3g, ddHe3n, ddtp, tpag, tdan, \n",
    "    taLi7g, He3ntp, He3dap, He3aBe7g, Be7nLi7p, Li7paa. \n",
    "    \"\"\"\n",
    "\n",
    "    res =  GetAbundances(\n",
    "        jnp.array(rho_g_vec), \n",
    "        jnp.array(rho_nu_vec), \n",
    "        jnp.zeros_like(rho_g_vec), \n",
    "        jnp.zeros_like(rho_g_vec), \n",
    "        a_vec = a_vec, \n",
    "        t_vec = t_vec,\n",
    "        eta_fac = params[0], \n",
    "        tau_n_fac = params[1],\n",
    "        nuclear_rates_p = dict(zip(const.reactions,params[2:])) # nuclear_rates_p must be a dictionary\n",
    "    )\n",
    "\n",
    "    Y_p      = res[5] * 4\n",
    "    D_over_H = res[2] / res[1]\n",
    "\n",
    "    Y_p_obs_mu   = 0.2449 # Aver 2015\n",
    "    Y_p_obs_sig  = 0.004\n",
    "\n",
    "    D_over_H_obs_mu  = 2.527e-5 # Cooke 2018\n",
    "    D_over_H_obs_sig = 3e-7\n",
    "\n",
    "    # a log likelihood\n",
    "    m2LL = (Y_p - Y_p_obs_mu)**2 / Y_p_obs_sig**2 + (D_over_H - D_over_H_obs_mu)**2 / D_over_H_obs_sig**2\n",
    "\n",
    "    if return_abundances: \n",
    "        return m2LL, (Y_p, D_over_H)\n",
    "\n",
    "    else: \n",
    "        return m2LL"
   ]
  },
  {
   "cell_type": "code",
   "execution_count": 28,
   "id": "45e75a8f-aaee-4525-b6cb-b5e5a13da81c",
   "metadata": {},
   "outputs": [],
   "source": [
    "# define a vectorized version of this function, so that we can give multiple inputs to the LL function\n",
    "get_m2LL_v = jit(vmap(get_m2LL, in_axes=0))"
   ]
  },
  {
   "cell_type": "markdown",
   "id": "0eb9de43-8230-4a00-9114-736528f8b1d3",
   "metadata": {},
   "source": [
    "Let's infer the value for $\\eta$, and vary just one of these nuisance parameters.  \n",
    "\n",
    "Reactions that impact the final abundance of deuterium will have the strongest impact on $\\eta$.  These rates are $D+p\\rightarrow\\gamma+ ^3\\rm{He}$, $D+D\\rightarrow n+ ^3\\rm{He}$ and $D+D\\rightarrow p+^3\\rm{H}$.\n",
    "\n",
    "Let's see this in action. First, we marginalize over a rate that isn't one of these three:"
   ]
  },
  {
   "cell_type": "code",
   "execution_count": 49,
   "id": "7713b28b-043a-4de4-b2e6-214f5b2952fa",
   "metadata": {},
   "outputs": [],
   "source": [
    "# define arrays--vary only eta_fac and npdg rate\n",
    "eta_fac_ary = jnp.logspace(jnp.log10(5.6e-10), jnp.log10(6.4e-10), num=50) / const.eta0\n",
    "npdg_p_ary = jax.random.normal(key=jax.random.PRNGKey(0),shape=(11,))\n",
    "p_meshes = np.meshgrid(eta_fac_ary, [1.], npdg_p_ary, [0], [0],[0], [0], [0], [0], [0], [0], [0], [0], [0])\n",
    "p_ary = jnp.reshape(jnp.stack(p_meshes, -1),(-1, 14))"
   ]
  },
  {
   "cell_type": "code",
   "execution_count": 30,
   "id": "727f6f7f-b202-485e-b677-876ccadf766f",
   "metadata": {},
   "outputs": [
    {
     "name": "stdout",
     "output_type": "stream",
     "text": [
      "Compiling abundance model...\n"
     ]
    }
   ],
   "source": [
    "# get likelihoods for each point\n",
    "m2LL = get_m2LL_v(p_ary)"
   ]
  },
  {
   "cell_type": "code",
   "execution_count": 32,
   "id": "6056a405-e4f2-4a71-8aa9-025a5765015f",
   "metadata": {},
   "outputs": [
    {
     "data": {
      "text/plain": [
       "(-1.0, 5.0)"
      ]
     },
     "execution_count": 32,
     "metadata": {},
     "output_type": "execute_result"
    },
    {
     "data": {
      "image/png": "[encoded data removed]",
      "text/plain": [
       "<Figure size 640x480 with 1 Axes>"
      ]
     },
     "metadata": {},
     "output_type": "display_data"
    }
   ],
   "source": [
    "# plot the result\n",
    "\n",
    "data = np.concatenate((p_ary, m2LL[:,None]),-1)\n",
    "data_reduced = data[:,(0,2,-1)]\n",
    "# has shape eta x npdg x 3, where 3 entries are (eta (0), npdg (2), m2LL (-1))\n",
    "data_reduced_3D = data_reduced.reshape((len(eta_fac_ary), len(npdg_p_ary), 3))\n",
    "\n",
    "m2LL_min = np.min(data_reduced_3D[...,2])\n",
    "# profile over npdg\n",
    "m2LL_eta_min = np.min(data_reduced_3D[...,2], axis=(1))\n",
    "\n",
    "plt.figure()\n",
    "\n",
    "plt.plot(eta_fac_ary * const.eta0, m2LL_eta_min - m2LL_min)\n",
    "plt.axhline(1., ls=':', color='gray')\n",
    "plt.axhline(3.84, ls='--', color='gray')\n",
    "plt.axvline(5.875e-10, ls=':', alpha=0.5)\n",
    "plt.axvline(6.275e-10, ls=':', alpha=0.5)\n",
    "\n",
    "plt.xlabel(r'Baryon-to-Photon Ratio $\\eta$')\n",
    "plt.ylabel(r'$2 \\Delta \\ln L$')\n",
    "\n",
    "plt.xlim(5.8e-10, 6.4e-10)\n",
    "plt.ylim(-1, 5)"
   ]
  },
  {
   "cell_type": "markdown",
   "id": "8417dada-8da1-4655-91b3-1ccba261b7d6",
   "metadata": {},
   "source": [
    "### Exercise 4:\n",
    "\n",
    "Let's repeat the exercise above, but also vary one of the deuterium reacitons."
   ]
  },
  {
   "cell_type": "code",
   "execution_count": null,
   "id": "2d183aa7-b722-4b8b-bba9-94f0aeb5f075",
   "metadata": {},
   "outputs": [],
   "source": [
    "eta_fac_ary = jnp.logspace(jnp.log10(5.8e-10), jnp.log10(6.4e-10), num=50) / const.eta0\n",
    "# avoid making these two arrays too large, otherwise runtime might become long.  Aim for 100-200 additional values\n",
    "npdg_p_ary = \n",
    "dpHe3g_p_ary = \n",
    "\n",
    "# dpHe3g should be modified at position 3 of your array (right after ndpg)\n",
    "p_meshes = # your code here\n",
    "\n",
    "p_ary = jnp.reshape(jnp.stack(p_meshes, -1),(-1, 14))"
   ]
  },
  {
   "cell_type": "code",
   "execution_count": null,
   "id": "75d69dd7-45e9-45c6-9aed-b1f2a84e8a18",
   "metadata": {},
   "outputs": [],
   "source": [
    "# this will take longer than before\n",
    "m2LL = get_m2LL_v(p_ary)"
   ]
  },
  {
   "cell_type": "code",
   "execution_count": null,
   "id": "4c8a2476-74f1-4f87-870f-851a69158200",
   "metadata": {},
   "outputs": [],
   "source": [
    "# if everything went well above, you should be able to execute this cell straight away:\n",
    "\n",
    "data = np.concatenate((p_ary, m2LL[:,None]),-1)\n",
    "data_reduced = data[:,(0,2,3,-1)]\n",
    "# has shape eta x npdg x dpHe3g x 4, where 4 entries is (eta, npdg, dpHe3g, m2LL)\n",
    "data_reduced_3D = data_reduced.reshape((len(eta_fac_ary), len(npdg_p_ary), len(dpHe3g_p_ary), 4))\n",
    "m2LL_min = np.min(data_reduced_3D[...,3])\n",
    "\n",
    "# profile over both reactions\n",
    "m2LL_eta_min = np.min(data_reduced_3D[...,3], axis=(1,2))\n",
    "\n",
    "plt.figure()\n",
    "\n",
    "plt.plot(eta_fac_ary * const.eta0, m2LL_eta_min - m2LL_min)\n",
    "plt.axhline(1., ls=':', color='gray')\n",
    "plt.axhline(3.84, ls='--', color='gray')\n",
    "plt.axvline(5.84e-10, ls=':', alpha=0.5)\n",
    "plt.axvline(6.315e-10, ls=':', alpha=0.5)\n",
    "\n",
    "plt.xlabel(r'Baryon-to-Photon Ratio $\\eta$')\n",
    "plt.ylabel(r'$2 \\Delta \\ln L$')\n",
    "\n",
    "plt.xlim(5.8e-10, 6.4e-10)"
   ]
  },
  {
   "cell_type": "markdown",
   "id": "d70b654e-382b-493b-97e8-3be021d6402f",
   "metadata": {},
   "source": [
    "You should find that the log likelihood curve broadened significantly, and a wider range of $\\Omega_b h^2$ values than before are now acceptable."
   ]
  },
  {
   "cell_type": "code",
   "execution_count": null,
   "id": "f317b68a-c15c-4d84-b1f8-4e2eb1911f9c",
   "metadata": {},
   "outputs": [],
   "source": []
  }
 ],
 "metadata": {
  "kernelspec": {
   "display_name": "Python 3 (ipykernel)",
   "language": "python",
   "name": "python3"
  },
  "language_info": {
   "codemirror_mode": {
    "name": "ipython",
    "version": 3
   },
   "file_extension": ".py",
   "mimetype": "text/x-python",
   "name": "python",
   "nbconvert_exporter": "python",
   "pygments_lexer": "ipython3",
   "version": "3.12.3"
  }
 },
 "nbformat": 4,
 "nbformat_minor": 5
}
