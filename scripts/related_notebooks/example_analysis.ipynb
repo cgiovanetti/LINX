{
 "cells": [
  {
   "cell_type": "markdown",
   "id": "c5705a75-2c3f-42a8-9564-c159d849cb51",
   "metadata": {},
   "source": [
    "# Example analysis of some included samples"
   ]
  },
  {
   "cell_type": "markdown",
   "id": "b060d8ca-793e-42cf-870f-dfed73bfe6af",
   "metadata": {},
   "source": [
    "In service of reproducibility of our results, we include the samples used to generate the figures in our papers.  We include some examples below of how one might produce similar plots given the data we provide."
   ]
  },
  {
   "cell_type": "markdown",
   "id": "a0a48d87-b06f-4a3f-871c-747aad6f1db6",
   "metadata": {},
   "source": [
    "## Preamble"
   ]
  },
  {
   "cell_type": "code",
   "execution_count": null,
   "id": "0b948fde-400e-4a6e-8f14-3d5a541e9b1c",
   "metadata": {},
   "outputs": [],
   "source": [
    "%load_ext autoreload\n",
    "%autoreload\n",
    "import numpy as np\n",
    "import sys\n",
    "import jax.numpy as jnp\n",
    "\n",
    "sys.path.append(\"../..\")\n",
    "import linx.const as const\n",
    "from linx.background import BackgroundModel\n",
    "from linx.thermo import N_eff\n",
    "\n",
    "from scipy.interpolate import interp1d\n",
    "\n",
    "import matplotlib\n",
    "import matplotlib.pyplot as plt\n",
    "import corner\n",
    "from matplotlib.lines import Line2D\n",
    "\n",
    "%matplotlib inline"
   ]
  },
  {
   "cell_type": "markdown",
   "id": "2cb8f2a8-7371-4fc8-b34d-ab918ad8cb1a",
   "metadata": {},
   "source": [
    "We sample the input parameter `dNeff`, which does not map on to $N_{\\rm{eff}}$ in a straightforward way.  So we will build an interpolation we can use to go between our `dNeff` samples and our desired $N_{\\rm{eff}}$ posterior:"
   ]
  },
  {
   "cell_type": "code",
   "execution_count": null,
   "id": "3953f23c-2f13-4bb5-9fae-bde69374b827",
   "metadata": {},
   "outputs": [],
   "source": [
    "get_thermodynamics_Neff = BackgroundModel()\n",
    "step = 0.1\n",
    "input_dNeff = np.arange(-10.,10+step,step=step)\n",
    "output_Neff = []\n",
    "for dNeff in input_dNeff:\n",
    "    t_vec, a_vec, rho_g_vec, rho_nu_vec, rho_extra_vec, P_extra_vec, Neff_vec = get_thermodynamics_Neff(jnp.asarray(dNeff))\n",
    "\n",
    "    output_Neff.append(N_eff(rho_g_vec[-1] + 3*rho_nu_vec[-1] + rho_extra_vec[-1],rho_g_vec[-1]))\n",
    "Neff = interp1d(input_dNeff,output_Neff)"
   ]
  },
  {
   "cell_type": "markdown",
   "id": "e139a684-a5e3-4c69-8a30-396f96db88a5",
   "metadata": {},
   "source": [
    "Now we can call `Neff` on our samples where needed.  Let's also set up arrays of parameter names to make including labels easier:"
   ]
  },
  {
   "cell_type": "code",
   "execution_count": null,
   "id": "5d80283b-de19-43ee-b584-c878b71a7bfb",
   "metadata": {},
   "outputs": [],
   "source": [
    "reactions = [\n",
    "    'npdg', 'dpHe3g', 'ddHe3n', 'ddtp', 'tpag', 'tdan', 'taLi7g', 'He3ntp', \n",
    "    'He3dap', 'He3aBe7g', 'Be7nLi7p', 'Li7paa', 'Li7paag', 'Be7naa', 'Be7daap', \n",
    "    'daLi6g', 'Li6pBe7g', 'Li6pHe3a', 'B8naap', 'Li6He3aap', 'Li6taan', \n",
    "    'Li6tLi8p', 'Li7He3Li6a', 'Li8He3Li7a', 'Be7tLi6a', 'B8tBe7a'\n",
    "]\n",
    "\n",
    "CMB_nuisances = ['A_cib_217', 'xi_sz_cib', 'A_sz', 'ps_A_100_100', 'ps_A_143_143', \n",
    "                 'ps_A_143_217', 'ps_A_217_217', 'ksz_norm', 'gal545_A_100', 'gal545_A_143',\n",
    "                 'gal545_A_143_217', 'gal545_A_217', 'galf_Te_A_100', 'galf_Te_A_100_143', \n",
    "                 'galf_Te_A_100_217', 'galf_Te_A_143', 'galf_Te_A_143_217', 'galf_Te_A_217', \n",
    "                 'calib_100T', 'calib_217T', 'A_planck']"
   ]
  },
  {
   "cell_type": "markdown",
   "id": "1f4ccd93-1f93-4a95-a538-b880c287ff62",
   "metadata": {
    "jp-MarkdownHeadingCollapsed": true
   },
   "source": [
    "## BBN only"
   ]
  },
  {
   "cell_type": "markdown",
   "id": "303570f6-2806-4ac2-86ee-287ecbc74485",
   "metadata": {},
   "source": [
    "Here's how we might view the results of sampling without BBN nuisance parameters (\"no_marg\" indicates BBN nuisance parameters were not marginalized over, apart from the neutron lifetime `tau_n_fac`):"
   ]
  },
  {
   "cell_type": "code",
   "execution_count": null,
   "id": "341816d2-091f-4444-84c2-00fa88a2f257",
   "metadata": {},
   "outputs": [],
   "source": [
    "samples = np.load('../samples/BBN_only/dynesty_key_PRIMAT_2023_BBN_only_no_marg_omegab_samples.npz')\n",
    "labelArr = ['omega_b','tau_n_fac']\n",
    "fig = corner.corner(samples['samples'],labels=labelArr)\n",
    "\n",
    "print(\"omega_b results\")\n",
    "\n",
    "median = np.median(samples['samples'][:,0])\n",
    "lower_bound = np.percentile(samples['samples'][:,0], 16) # 50 +/- 34 to get 68% CL\n",
    "upper_bound = np.percentile(samples['samples'][:,0], 84)\n",
    "print(\"median: \",median)\n",
    "print(\"lower sigma: \",median - lower_bound)\n",
    "print(\"upper sigma: \",upper_bound - median)"
   ]
  },
  {
   "cell_type": "markdown",
   "id": "de7ffc53-1973-4879-9f48-f29f282587f8",
   "metadata": {},
   "source": [
    "And here's how we'd do it adding the BBN nuisance parameters.  Let's also include $N_{\\rm{eff}}$ to see how transforming the samples works:"
   ]
  },
  {
   "cell_type": "code",
   "execution_count": null,
   "id": "fb3cf004-3952-469a-8961-01e724b4cc8c",
   "metadata": {},
   "outputs": [],
   "source": [
    "samples = np.load('../samples/BBN_only/dynesty_key_NACREII_BBN_only_marg_omegab_Neff_samples.npz')\n",
    "reconf_arr = np.concatenate((samples['samples'][:,0].reshape(-1,1),\n",
    "                             Neff(samples['samples'][:,1]).reshape(-1,1),\n",
    "                             samples['samples'][:,2:]),axis=1)\n",
    "\n",
    "labelArr = np.concatenate(([r'$100 \\omega_b h^2$',r'$N_{\\rm{eff}}$',r'tau_n_fac'],reactions))\n",
    "fig = corner.corner(reconf_arr,labels=labelArr,label_kwargs={\"fontsize\": 18})\n",
    "\n",
    "\n",
    "print(\"omega_b\")\n",
    "median = np.median(samples['samples'][:,0])\n",
    "lower_bound = np.percentile(samples['samples'][:,0], 16)\n",
    "upper_bound = np.percentile(samples['samples'][:,0], 84)\n",
    "print(\"median: \",median)\n",
    "print(\"lower sigma: \",median - lower_bound)\n",
    "print(\"upper sigma: \",upper_bound - median)\n",
    "\n",
    "print(\"Neff\")\n",
    "median = np.median(Neff(samples['samples'][:,1]))\n",
    "lower_bound = np.percentile(Neff(samples['samples'][:,1]), 16)\n",
    "upper_bound = np.percentile(Neff(samples['samples'][:,1]), 84)\n",
    "print(\"median: \",median)\n",
    "print(\"lower sigma: \",median - lower_bound)\n",
    "print(\"upper sigma: \",upper_bound - median)"
   ]
  },
  {
   "cell_type": "markdown",
   "id": "bfdcea7a-5472-4e5e-bf71-2fe65c2645d6",
   "metadata": {
    "jp-MarkdownHeadingCollapsed": true
   },
   "source": [
    "## CMB only"
   ]
  },
  {
   "cell_type": "markdown",
   "id": "e750435f-f3c7-4a0b-9759-d835cac33719",
   "metadata": {},
   "source": [
    "Here's a quick example of CMB-only samples, including CMB nuisance parameters (\"nuisance\" indicates the CMB nuisance parameters were sampled):"
   ]
  },
  {
   "cell_type": "code",
   "execution_count": null,
   "id": "a0655e74-b44b-4788-84ff-639b003c2a6e",
   "metadata": {},
   "outputs": [],
   "source": [
    "samples = np.load('../samples/CMB_only/dynesty_CMB_only_nuisance_omegab_Neff_samples.npz') \n",
    "\n",
    "labelArr = np.concatenate((['$A_s$','$n_s$','$h$',r'$100 \\Omega_b h^2$',r'$\\Omega_{\\rm{CDM}}$',\n",
    "                            r'$\\tau_{\\rm{reio}}$',r'$N_{\\rm{eff}}$'],CMB_nuisances))\n",
    "fig = corner.corner(samples['samples'],labels=labelArr)\n",
    "\n",
    "print(\"omega_b\")\n",
    "median = np.median(samples['samples'][:,3])\n",
    "lower_bound = np.percentile(samples['samples'][:,3], 16)\n",
    "upper_bound = np.percentile(samples['samples'][:,3], 84)\n",
    "print(\"median: \",median)\n",
    "print(\"lower: \",median - lower_bound)\n",
    "print(\"upper: \",upper_bound - median)\n",
    "\n",
    "print(\"Neff\")\n",
    "median = np.median(samples['samples'][:,6])\n",
    "lower_bound = np.percentile(samples['samples'][:,6], 16)\n",
    "upper_bound = np.percentile(samples['samples'][:,6], 84)\n",
    "print(\"median: \",median)\n",
    "print(\"lower: \",median - lower_bound)\n",
    "print(\"upper: \",upper_bound - median)"
   ]
  },
  {
   "cell_type": "markdown",
   "id": "5034edff-82fd-4558-bfde-ce62f33f506f",
   "metadata": {},
   "source": [
    "It's hard to see anything with all of those nuisance parameters, so let's just look at the model parameters:"
   ]
  },
  {
   "cell_type": "code",
   "execution_count": null,
   "id": "1e28de4f-031f-4223-a24a-2cd55bfe7113",
   "metadata": {},
   "outputs": [],
   "source": [
    "samples = np.load('../samples/CMB_only/dynesty_CMB_only_nuisance_omegab_Neff_samples.npz') \n",
    "\n",
    "labelArr = np.concatenate((['$A_s$','$n_s$','$h$',r'$100 \\Omega_b h^2$',r'$\\Omega_{\\rm{CDM}}$',\n",
    "                            r'$\\tau_{\\rm{reio}}$',r'$N_{\\rm{eff}}$'],CMB_nuisances))\n",
    "fig = corner.corner(samples['samples'][:,:7],labels=labelArr)\n",
    "\n",
    "print(\"omega_b\")\n",
    "median = np.median(samples['samples'][:,3])\n",
    "lower_bound = np.percentile(samples['samples'][:,3], 16)\n",
    "upper_bound = np.percentile(samples['samples'][:,3], 84)\n",
    "print(\"median: \",median)\n",
    "print(\"lower: \",median - lower_bound)\n",
    "print(\"upper: \",upper_bound - median)\n",
    "\n",
    "print(\"Neff\")\n",
    "median = np.median(samples['samples'][:,6])\n",
    "lower_bound = np.percentile(samples['samples'][:,6], 16)\n",
    "upper_bound = np.percentile(samples['samples'][:,6], 84)\n",
    "print(\"median: \",median)\n",
    "print(\"lower: \",median - lower_bound)\n",
    "print(\"upper: \",upper_bound - median)"
   ]
  },
  {
   "cell_type": "markdown",
   "id": "9feec20a-f70f-4d04-8024-ef45c03a110f",
   "metadata": {
    "jp-MarkdownHeadingCollapsed": true
   },
   "source": [
    "## Joint analyses"
   ]
  },
  {
   "cell_type": "markdown",
   "id": "940f77e5-add5-4fb2-b46c-6dd151fd8b77",
   "metadata": {},
   "source": [
    "We can try to just plot everything, but beware the output of this cell is large!"
   ]
  },
  {
   "cell_type": "code",
   "execution_count": null,
   "id": "b9b846f7-de74-4909-b5d2-185d7acdd201",
   "metadata": {},
   "outputs": [],
   "source": [
    "samples = np.load('../samples/Joint_analyses/dynesty_key_PArth_CMB_BBN_marg_nuisance_omegab_Neff_samples.npz')\n",
    "reconf_arr = np.concatenate((samples['samples'][:,:6],Neff(samples['samples'][:,6]).reshape(-1,1),samples['samples'][:,7:]),axis=1)\n",
    "\n",
    "labelArr = np.concatenate((['$A_s$','$n_s$','$h$',r'$100 \\Omega_b h^2$',r'$\\Omega_{\\rm{CDM}}$',\n",
    "                            r'$\\tau_{\\rm{reio}}$',r'$N_{\\rm{eff}}$','tau_n_fac'],CMB_nuisances,reactions))\n",
    "fig = corner.corner(reconf_arr,labels=labelArr)\n",
    "\n",
    "\n",
    "print(\"omega_b\")\n",
    "median = np.median(samples['samples'][:,3])\n",
    "lower_bound = np.percentile(samples['samples'][:,3], 16)\n",
    "upper_bound = np.percentile(samples['samples'][:,3], 84)\n",
    "print(\"median: \",median)\n",
    "print(\"lower: \",median - lower_bound)\n",
    "print(\"upper: \",upper_bound - median)\n",
    "\n",
    "print(\"Neff\")\n",
    "median = np.median(Neff(samples['samples'][:,6]))\n",
    "lower_bound = np.percentile(Neff(samples['samples'][:,6]), 16)\n",
    "upper_bound = np.percentile(Neff(samples['samples'][:,6]), 84)\n",
    "print(\"median: \",median)\n",
    "print(\"lower: \",median - lower_bound)\n",
    "print(\"upper: \",upper_bound - median)"
   ]
  },
  {
   "cell_type": "markdown",
   "id": "bed0ef51-af47-4d69-a740-34c62e315265",
   "metadata": {},
   "source": [
    "Best instead to just plot the model parameters:"
   ]
  },
  {
   "cell_type": "code",
   "execution_count": null,
   "id": "dcf33743-031a-4668-b564-a13214f97582",
   "metadata": {},
   "outputs": [],
   "source": [
    "samples = np.load('../samples/Joint_analyses/dynesty_key_PArth_CMB_BBN_marg_nuisance_omegab_Neff_samples.npz')\n",
    "reconf_arr = np.concatenate((samples['samples'][:,:6],Neff(samples['samples'][:,6]).reshape(-1,1),samples['samples'][:,7:]),axis=1)\n",
    "\n",
    "labelArr = np.concatenate((['$A_s$','$n_s$','$h$',r'$100 \\Omega_b h^2$',r'$\\Omega_{\\rm{CDM}}$',\n",
    "                            r'$\\tau_{\\rm{reio}}$',r'$N_{\\rm{eff}}$','tau_n_fac'],CMB_nuisances,reactions))\n",
    "fig = corner.corner(reconf_arr[:,:7],labels=labelArr)\n",
    "\n",
    "\n",
    "print(\"omega_b\")\n",
    "median = np.median(samples['samples'][:,3])\n",
    "lower_bound = np.percentile(samples['samples'][:,3], 16)\n",
    "upper_bound = np.percentile(samples['samples'][:,3], 84)\n",
    "print(\"median: \",median)\n",
    "print(\"lower: \",median - lower_bound)\n",
    "print(\"upper: \",upper_bound - median)\n",
    "\n",
    "print(\"Neff\")\n",
    "median = np.median(Neff(samples['samples'][:,6]))\n",
    "lower_bound = np.percentile(Neff(samples['samples'][:,6]), 16)\n",
    "upper_bound = np.percentile(Neff(samples['samples'][:,6]), 84)\n",
    "print(\"median: \",median)\n",
    "print(\"lower: \",median - lower_bound)\n",
    "print(\"upper: \",upper_bound - median)"
   ]
  },
  {
   "cell_type": "code",
   "execution_count": null,
   "id": "a9a2fbfc-8729-4e8a-98e0-ab0ca18c8fc0",
   "metadata": {},
   "outputs": [],
   "source": []
  }
 ],
 "metadata": {
  "kernelspec": {
   "display_name": "Python 3 (ipykernel)",
   "language": "python",
   "name": "python3"
  },
  "language_info": {
   "codemirror_mode": {
    "name": "ipython",
    "version": 3
   },
   "file_extension": ".py",
   "mimetype": "text/x-python",
   "name": "python",
   "nbconvert_exporter": "python",
   "pygments_lexer": "ipython3",
   "version": "3.12.3"
  }
 },
 "nbformat": 4,
 "nbformat_minor": 5
}
