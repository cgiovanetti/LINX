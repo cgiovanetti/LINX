{
 "cells": [
  {
   "cell_type": "markdown",
   "metadata": {},
   "source": [
    "# Sample SVI analysis"
   ]
  },
  {
   "cell_type": "markdown",
   "metadata": {},
   "source": [
    "## Preamble"
   ]
  },
  {
   "cell_type": "code",
   "execution_count": null,
   "metadata": {},
   "outputs": [],
   "source": [
    "import pickle\n",
    "import pylab\n",
    "import matplotlib.pyplot as plt\n",
    "\n",
    "import sys\n",
    "sys.path.append('../../example_notebooks')\n",
    "sys.path.append('../..')\n",
    "\n",
    "from plot_params import params\n",
    "pylab.rcParams.update(params)\n",
    "\n",
    "cols_default = plt.rcParams['axes.prop_cycle'].by_key()['color']\n",
    "\n",
    "%matplotlib inline"
   ]
  },
  {
   "cell_type": "code",
   "execution_count": null,
   "metadata": {},
   "outputs": [],
   "source": [
    "from linx.const import tau_n"
   ]
  },
  {
   "cell_type": "markdown",
   "metadata": {},
   "source": [
    "## Analysis"
   ]
  },
  {
   "cell_type": "code",
   "execution_count": null,
   "metadata": {},
   "outputs": [],
   "source": [
    "# Test opening the file\n",
    "with open(\"../samples/samples_svi_mcmc_bbn_only_False_n_steps_svi_2000_n_particles_svi_1_lr_0.0006_rng_svi_1792_n_samples_mcmc_2000_n_warmup_mcmc_500_n_chains_2_rng_mcmc_10700_step_size_0.01.pkl\", \"rb\") as f:\n",
    "    samples = pickle.load(f)"
   ]
  },
  {
   "cell_type": "code",
   "execution_count": null,
   "metadata": {},
   "outputs": [],
   "source": [
    "# Remove 'nuclear_rates_q' from the samples\n",
    "samples.pop('nuclear_rates_q')\n",
    "samples.pop('DNeff')\n",
    "samples.pop('eta_fac')\n",
    "# samples.pop('tau_fac')\n",
    "\n",
    "# Multiply 'tau_fac' by tau_n\n",
    "samples['tau_fac'] = samples['tau_fac'] * tau_n"
   ]
  },
  {
   "cell_type": "code",
   "execution_count": null,
   "metadata": {},
   "outputs": [],
   "source": [
    "samples_flattened = {key: samples[key].flatten() for key in samples.keys()}"
   ]
  },
  {
   "cell_type": "code",
   "execution_count": null,
   "metadata": {},
   "outputs": [],
   "source": [
    "samples_flattened.keys()"
   ]
  },
  {
   "cell_type": "code",
   "execution_count": null,
   "metadata": {},
   "outputs": [],
   "source": [
    "# Multiply ombh2 by 100 to make it more readable\n",
    "samples_flattened['ombh2'] *= 100\n",
    "\n",
    "# Move the 4th key of the to position 0\n",
    "samples_flattened = {key: samples_flattened[key] for key in ['ombh2', 'Neff', 'h', 'logA', 'ns', 'omch2', 'tau', 'tau_fac']}"
   ]
  },
  {
   "cell_type": "markdown",
   "metadata": {},
   "source": [
    "We can take a look at the output from our SVI analysis--other stats are also included below."
   ]
  },
  {
   "cell_type": "code",
   "execution_count": null,
   "metadata": {},
   "outputs": [],
   "source": [
    "import corner\n",
    "import numpy as np\n",
    "\n",
    "levels =  1.0 - np.exp(-0.5 *np.array([1.0, 2.0])**2)\n",
    "labels = ['$100 \\,\\\\Omega_b\\,h^2$', '$N_{\\\\rm eff}$', '$h$', '$\\\\log A$', '$n_s$', '$\\\\Omega_c\\,h^2$', '$\\\\tau_{\\\\rm reio}$', '$\\\\tau_{n}\\,[{\\\\rm s}]$']\n",
    "\n",
    "fig = corner.corner(samples_flattened,  \n",
    "                    smooth=1., \n",
    "                    smooth1d=0.75, \n",
    "                    labels=labels,\n",
    "                    bins=20, \n",
    "                    # quantiles=[0.16, 0.84],\n",
    "                    show_titles=True,\n",
    "                    title_quantiles=[0.16, 0.5, 0.84],\n",
    "                    title_fmt = '.3f',\n",
    "                    max_n_ticks=4,\n",
    "                    labelpad=0.05,\n",
    "                    color=cols_default[1],\n",
    "                    levels=levels,\n",
    "                    use_math_text=True, \n",
    "                    hist_kwargs={'alpha':0.9, 'lw':2.0},\n",
    "                    hist2d_kwargs={'alpha':0.8, 'lw':0.1, 'zorder':2, 'contourf_kwargs':{'lw':0.1}, 'contour_kwargs':{'lw':0.1}},\n",
    "                    )\n",
    "\n",
    "# plt.savefig(\"differentiable_corner.pdf\", bbox_inches=\"tight\")"
   ]
  },
  {
   "cell_type": "code",
   "execution_count": null,
   "metadata": {},
   "outputs": [],
   "source": [
    "# Get median and middle 68% interval for each parameter. Print as plus/minus compared to median\n",
    "for key in samples_flattened.keys():\n",
    "    print(key)\n",
    "    # print(f\"{np.median(samples_flattened[key]):.3f} +{np.percentile(samples_flattened[key], 84) - np.median(samples_flattened[key]):.3f} -{np.median(samples_flattened[key]) - np.percentile(samples_flattened[key], 16):.3f}\")\n",
    "\n",
    "    # Print as TeX with plus/minus, with 3 decimal places\n",
    "    print(f\"${np.median(samples_flattened[key]):.3f}^{{+{np.percentile(samples_flattened[key], 84) - np.median(samples_flattened[key]):.3f}}}_{{-{np.median(samples_flattened[key]) - np.percentile(samples_flattened[key], 16):.3f}}}$\")\n"
   ]
  },
  {
   "cell_type": "markdown",
   "metadata": {},
   "source": [
    "```\n",
    "Running chain 0: 100%|███████████████████████████████████████████████████| 2500/2500 [32:20:28<00:00, 46.57s/it]\n",
    "Running chain 1: 100%|███████████████████████████████████████████████████| 2500/2500 [32:20:28<00:00, 46.57s/it]\n",
    "INFO:absl:Postprocessing samples...\n",
    "INFO:absl:Transform samples into unwarped space...\n",
    "\n",
    "                         mean       std    median      5.0%     95.0%     n_eff     r_hat\n",
    "              DNeff      0.13      0.51      0.13     -0.72      0.96    157.58      1.01\n",
    "               Neff      3.08      0.14      3.08      2.85      3.31    157.60      1.01\n",
    "            eta_fac      0.99      0.01      0.99      0.98      1.01    197.33      1.01\n",
    "                  h      0.67      0.01      0.67      0.65      0.69    199.58      1.00\n",
    "               logA      3.05      0.02      3.05      3.02      3.08     68.43      1.04\n",
    "                 ns      0.96      0.01      0.96      0.95      0.98    211.15      1.00\n",
    " nuclear_rates_q[0]     -0.33      0.74     -0.34     -1.52      0.93     94.16      1.01\n",
    " nuclear_rates_q[1]     -0.49      0.63     -0.45     -1.62      0.45     61.60      1.04\n",
    " nuclear_rates_q[2]     -0.53      0.97     -0.52     -2.19      0.96     70.93      1.03\n",
    " nuclear_rates_q[3]     -0.42      0.95     -0.42     -1.83      1.29    131.69      1.02\n",
    " nuclear_rates_q[4]     -0.12      0.87     -0.14     -1.55      1.31    269.52      1.00\n",
    " nuclear_rates_q[5]      0.16      0.92      0.14     -1.49      1.55    229.85      1.00\n",
    " nuclear_rates_q[6]     -0.04      0.97     -0.03     -1.63      1.60    261.38      1.01\n",
    " nuclear_rates_q[7]     -0.13      0.94     -0.11     -1.74      1.35    238.03      1.01\n",
    " nuclear_rates_q[8]     -0.07      0.98     -0.08     -1.57      1.59    181.78      1.01\n",
    " nuclear_rates_q[9]      0.04      1.05      0.01     -1.72      1.68    107.00      1.03\n",
    "nuclear_rates_q[10]     -0.10      1.02     -0.08     -1.88      1.47    297.65      1.01\n",
    "nuclear_rates_q[11]      0.13      0.98      0.11     -1.52      1.69    407.81      1.01\n",
    "              ombh2      0.02      0.00      0.02      0.02      0.02    197.33      1.01\n",
    "              omch2      0.12      0.00      0.12      0.12      0.12    185.20      1.02\n",
    "                tau      0.06      0.01      0.06      0.04      0.07    116.57      1.03\n",
    "            tau_fac      1.00      0.00      1.00      1.00      1.00     87.87      1.04\n",
    "\n",
    "INFO:absl:Saving samples...\n",
    "INFO:absl:Done! Have a great day.\n",
    "(cfm) ----------------------------------------------------------------------------------------------------------\n",
    "```"
   ]
  },
  {
   "cell_type": "code",
   "execution_count": null,
   "metadata": {},
   "outputs": [],
   "source": []
  }
 ],
 "metadata": {
  "kernelspec": {
   "display_name": "Python 3 (ipykernel)",
   "language": "python",
   "name": "python3"
  },
  "language_info": {
   "codemirror_mode": {
    "name": "ipython",
    "version": 3
   },
   "file_extension": ".py",
   "mimetype": "text/x-python",
   "name": "python",
   "nbconvert_exporter": "python",
   "pygments_lexer": "ipython3",
   "version": "3.12.3"
  }
 },
 "nbformat": 4,
 "nbformat_minor": 4
}
